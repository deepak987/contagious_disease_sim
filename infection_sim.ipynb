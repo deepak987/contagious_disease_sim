{
 "cells": [
  {
   "cell_type": "code",
   "execution_count": 741,
   "metadata": {},
   "outputs": [],
   "source": [
    "import networkx as nx\n",
    "import numpy as np\n",
    "import matplotlib.pyplot as plt\n",
    "import pandas as pd\n",
    "import string\n",
    "import random\n",
    "from collections import Counter\n",
    "import sys\n",
    "%matplotlib inline"
   ]
  },
  {
   "cell_type": "markdown",
   "metadata": {},
   "source": [
    "# Our City\n",
    "\n",
    "These are constants that define the behaviour of the city - "
   ]
  },
  {
   "cell_type": "code",
   "execution_count": 742,
   "metadata": {},
   "outputs": [],
   "source": [
    "CITY_POPULATION = 10000\n",
    "MEAN_NETWORK_DEGREE = 50\n",
    "MEAN_INTERACTIONS_PER_DAY = 20\n"
   ]
  },
  {
   "cell_type": "markdown",
   "metadata": {},
   "source": [
    "The city is modeled as a small-world network graph (https://en.wikipedia.org/wiki/Small-world_network)\n",
    "\n",
    "The graph is generated using the Watts–Strogatz model (https://en.wikipedia.org/wiki/Watts%E2%80%93Strogatz_model)"
   ]
  },
  {
   "cell_type": "code",
   "execution_count": 743,
   "metadata": {},
   "outputs": [],
   "source": [
    "BETA = 0.5 # a parameter for the model - read wiki page"
   ]
  },
  {
   "cell_type": "code",
   "execution_count": 744,
   "metadata": {},
   "outputs": [],
   "source": [
    "\n",
    "city_social_network = nx.watts_strogatz_graph(CITY_POPULATION, MEAN_NETWORK_DEGREE, BETA)\n"
   ]
  },
  {
   "cell_type": "code",
   "execution_count": 745,
   "metadata": {},
   "outputs": [
    {
     "data": {
      "text/plain": [
       "<BarContainer object of 33 artists>"
      ]
     },
     "execution_count": 745,
     "metadata": {},
     "output_type": "execute_result"
    },
    {
     "data": {
      "image/png": "[encoded data removed]",
      "text/plain": [
       "<Figure size 432x288 with 1 Axes>"
      ]
     },
     "metadata": {
      "needs_background": "light"
     },
     "output_type": "display_data"
    }
   ],
   "source": [
    "degrees = dict(city_social_network.degree()).values()\n",
    "degree_counts = np.unique(list(degrees), return_counts = True)\n",
    "degree_counts\n",
    "plt.bar(degree_counts[0], degree_counts[1]) \n"
   ]
  },
  {
   "cell_type": "markdown",
   "metadata": {},
   "source": [
    "Generating an Age probability distribution function-\n",
    "\n",
    "Based on 2000 Census data (https://www.census.gov/prod/cen2010/briefs/c2010br-03.pdf)"
   ]
  },
  {
   "cell_type": "code",
   "execution_count": null,
   "metadata": {},
   "outputs": [],
   "source": [
    "TRANSMISSION_RATE = 1.0/100\n",
    "ILLNESS_LENGTH_DAYS = 14\n",
    "SYMPTOMATIC_RATE = 0.5"
   ]
  },
  {
   "cell_type": "code",
   "execution_count": 746,
   "metadata": {},
   "outputs": [],
   "source": [
    "age_group_numbers_USA = [19175798,20549505,20528072,20219890,18964001,19381336,20510388,22706664,22441863, 20092404,17585548,13469237, 10805447,9533545,8857441,7415813,4945367,2789818,1112531,286784,50454,]"
   ]
  },
  {
   "cell_type": "markdown",
   "metadata": {},
   "source": [
    "Each age group is of 5 years - under 5yo, 5-10, 10-15 .... 95-100, >100\n",
    "\n",
    "For convenience, we choose a representative age for each group"
   ]
  },
  {
   "cell_type": "code",
   "execution_count": 747,
   "metadata": {},
   "outputs": [
    {
     "data": {
      "text/plain": [
       "<BarContainer object of 21 artists>"
      ]
     },
     "execution_count": 747,
     "metadata": {},
     "output_type": "execute_result"
    },
    {
     "data": {
      "image/png": "[encoded data removed]",
      "text/plain": [
       "<Figure size 432x288 with 1 Axes>"
      ]
     },
     "metadata": {
      "needs_background": "light"
     },
     "output_type": "display_data"
    }
   ],
   "source": [
    "age_group_ratios = np.array(age_group_numbers_USA)/sum(age_group_numbers_USA)\n",
    "ages = [2, 7, 12, 17, 22, 27, 32, 37, 42, 47, 52, 57, 62, 67, 72, 77, 82, 87, 92, 97, 102]\n",
    "plt.bar(ages, age_group_ratios)"
   ]
  },
  {
   "cell_type": "markdown",
   "metadata": {},
   "source": [
    "Assigning an age to each person in our city"
   ]
  },
  {
   "cell_type": "code",
   "execution_count": 748,
   "metadata": {},
   "outputs": [],
   "source": [
    "city_ages = np.random.choice(ages, CITY_POPULATION, p = age_group_ratios)"
   ]
  },
  {
   "cell_type": "code",
   "execution_count": 749,
   "metadata": {},
   "outputs": [
    {
     "data": {
      "text/plain": [
       "<BarContainer object of 21 artists>"
      ]
     },
     "execution_count": 749,
     "metadata": {},
     "output_type": "execute_result"
    },
    {
     "data": {
      "image/png": "[encoded data removed]",
      "text/plain": [
       "<Figure size 432x288 with 1 Axes>"
      ]
     },
     "metadata": {
      "needs_background": "light"
     },
     "output_type": "display_data"
    }
   ],
   "source": [
    "age_dist = np.unique(city_ages, return_counts = True)\n",
    "plt.bar(age_dist[0], age_dist[1])"
   ]
  },
  {
   "cell_type": "code",
   "execution_count": 750,
   "metadata": {},
   "outputs": [],
   "source": [
    "for i in range(CITY_POPULATION):\n",
    "    city_social_network.nodes[i]['age'] = city_ages[i]\n",
    "    city_social_network.nodes[i]['infected'] = False\n",
    "    city_social_network.nodes[i]['alive'] = True\n",
    "    city_social_network.nodes[i]['isolated'] = False\n",
    "    city_social_network.nodes[i]['infected_date'] = sys.maxsize\n",
    "    city_social_network.nodes[i]['recovered'] = False\n",
    "    \n",
    "    "
   ]
  },
  {
   "cell_type": "code",
   "execution_count": 751,
   "metadata": {},
   "outputs": [
    {
     "data": {
      "text/plain": [
       "{'age': 62,\n",
       " 'infected': False,\n",
       " 'alive': True,\n",
       " 'isolated': False,\n",
       " 'infected_date': 9223372036854775807,\n",
       " 'recovered': False}"
      ]
     },
     "execution_count": 751,
     "metadata": {},
     "output_type": "execute_result"
    }
   ],
   "source": [
    "city_social_network.nodes[0]"
   ]
  },
  {
   "cell_type": "code",
   "execution_count": 752,
   "metadata": {},
   "outputs": [],
   "source": [
    "def mortality_pdf(age):\n",
    "    return 0.3\n",
    "    return ((age-102)/1020 +0.1)"
   ]
  },
  {
   "cell_type": "code",
   "execution_count": 753,
   "metadata": {},
   "outputs": [
    {
     "data": {
      "text/plain": [
       "[<matplotlib.lines.Line2D at 0x13b688150>]"
      ]
     },
     "execution_count": 753,
     "metadata": {},
     "output_type": "execute_result"
    },
    {
     "data": {
      "image/png": "[encoded data removed]",
      "text/plain": [
       "<Figure size 432x288 with 1 Axes>"
      ]
     },
     "metadata": {
      "needs_background": "light"
     },
     "output_type": "display_data"
    }
   ],
   "source": [
    "plt.plot(ages,[mortality_pdf(age) for age in ages])"
   ]
  },
  {
   "cell_type": "code",
   "execution_count": 754,
   "metadata": {},
   "outputs": [],
   "source": [
    "def get_disease_stats(city_graph):\n",
    "    total_infected = 0\n",
    "    total_dead = 0\n",
    "    total_healthy = 0\n",
    "    total_recovered = 0\n",
    "    for i in city_graph.nodes():\n",
    "        if not city_social_network.nodes[i]['alive']:\n",
    "            total_dead+=1\n",
    "        #dead people are not infected\n",
    "        elif city_social_network.nodes[i]['infected']:\n",
    "            total_infected +=1\n",
    "        elif city_social_network.nodes[i]['recovered']:\n",
    "            total_recovered +=1\n",
    "        \n",
    "        else:\n",
    "            total_healthy+=1\n",
    "        \n",
    "    return{'infected':total_infected, 'dead': total_dead, 'never infected':total_healthy, 'recovered': total_recovered}\n",
    "        \n",
    "        "
   ]
  },
  {
   "cell_type": "code",
   "execution_count": 755,
   "metadata": {},
   "outputs": [
    {
     "data": {
      "text/plain": [
       "{'infected': 0, 'dead': 0, 'never infected': 10000, 'recovered': 0}"
      ]
     },
     "execution_count": 755,
     "metadata": {},
     "output_type": "execute_result"
    }
   ],
   "source": [
    "get_disease_stats(city_social_network)"
   ]
  },
  {
   "cell_type": "code",
   "execution_count": 756,
   "metadata": {},
   "outputs": [],
   "source": [
    "def get_daily_visits_no_preventative_measures(city_graph):\n",
    "    total_visits_in_day = (len(city_graph.nodes)*MEAN_INTERACTIONS_PER_DAY)/2 # Two people take part in an interaction\n",
    "    day_visits = random.sample(list(city_graph.edges), int(total_visits_in_day))\n",
    "    return day_visits\n",
    "    "
   ]
  },
  {
   "cell_type": "markdown",
   "metadata": {},
   "source": [
    "Distribution of Interactions on Day 0 (by person):"
   ]
  },
  {
   "cell_type": "code",
   "execution_count": 757,
   "metadata": {},
   "outputs": [],
   "source": [
    "day_0_interactions = get_daily_visits(city_social_network)\n",
    "interactions_per_person = Counter()\n",
    "for interaction in day_0_interactions:\n",
    "    interactions_per_person[interaction[0]]+=1\n",
    "    interactions_per_person[interaction[1]]++1\n",
    "    "
   ]
  },
  {
   "cell_type": "code",
   "execution_count": 758,
   "metadata": {},
   "outputs": [
    {
     "data": {
      "text/plain": [
       "<BarContainer object of 25 artists>"
      ]
     },
     "execution_count": 758,
     "metadata": {},
     "output_type": "execute_result"
    },
    {
     "data": {
      "image/png": "[encoded data removed]",
      "text/plain": [
       "<Figure size 432x288 with 1 Axes>"
      ]
     },
     "metadata": {
      "needs_background": "light"
     },
     "output_type": "display_data"
    }
   ],
   "source": [
    "hist = np.unique(list(interactions_per_person.values()), return_counts = True)\n",
    "plt.bar(hist[0],hist[1])"
   ]
  },
  {
   "cell_type": "code",
   "execution_count": 761,
   "metadata": {},
   "outputs": [],
   "source": [
    "\n",
    "def simulate_single_day(city_graph, day_number):\n",
    "    \n",
    "    interactions = get_daily_visits_no_preventative_measures(city_graph)\n",
    "    \n",
    "    for p1,p2 in interactions:\n",
    "        if not city_graph.nodes[p1]['alive'] or not city_graph.nodes[p1]['alive']:\n",
    "            continue\n",
    "        if city_graph.nodes[p1]['infected'] and city_graph.nodes[p2]['infected']:\n",
    "            continue\n",
    "        if city_graph.nodes[p1]['recovered'] or city_graph.nodes[p2]['recovered']:\n",
    "            continue\n",
    "        if not city_graph.nodes[p1]['infected'] and not city_graph.nodes[p2]['infected']:\n",
    "            continue\n",
    "        # one of the people is infected.\n",
    "        if random.uniform(0, 1) < TRANSMISSION_RATE:\n",
    "            #infect!\n",
    "            if not city_graph.nodes[p1]['infected']:\n",
    "                \n",
    "                city_graph.nodes[p1]['infected'] = True\n",
    "                city_graph.nodes[p1]['infected_date'] = day_number\n",
    "            else:\n",
    "                \n",
    "                city_graph.nodes[p2]['infected'] = True\n",
    "                city_graph.nodes[p2]['infected_date'] = day_number\n",
    "    for p in city_graph.nodes():\n",
    "        if day_number - city_graph.nodes[p]['infected_date'] == ILLNESS_LENGTH_DAYS:\n",
    "            if random.uniform(0, 1) < mortality_pdf(city_graph.nodes[p]['age']) :\n",
    "                city_graph.nodes[p]['alive'] = False\n",
    "            else:\n",
    "                city_graph.nodes[p]['recovered'] = True\n",
    "                city_graph.nodes[p]['infected'] = False\n",
    "  "
   ]
  },
  {
   "cell_type": "code",
   "execution_count": 762,
   "metadata": {},
   "outputs": [
    {
     "name": "stdout",
     "output_type": "stream",
     "text": [
      "day:0\n",
      "{'infected': 3, 'dead': 0, 'never infected': 9997, 'recovered': 0}\n",
      "day:10\n",
      "{'infected': 12, 'dead': 0, 'never infected': 9988, 'recovered': 0}\n",
      "day:20\n",
      "{'infected': 74, 'dead': 2, 'never infected': 9922, 'recovered': 2}\n",
      "day:30\n",
      "{'infected': 372, 'dead': 13, 'never infected': 9594, 'recovered': 21}\n",
      "day:40\n",
      "{'infected': 1682, 'dead': 62, 'never infected': 8098, 'recovered': 158}\n",
      "day:50\n",
      "{'infected': 4595, 'dead': 315, 'never infected': 4342, 'recovered': 748}\n",
      "day:60\n",
      "{'infected': 4557, 'dead': 1180, 'never infected': 1456, 'recovered': 2807}\n",
      "day:70\n",
      "{'infected': 1717, 'dead': 2301, 'never infected': 616, 'recovered': 5366}\n",
      "day:80\n",
      "{'infected': 403, 'dead': 2741, 'never infected': 388, 'recovered': 6468}\n",
      "day:90\n",
      "{'infected': 181, 'dead': 2843, 'never infected': 276, 'recovered': 6700}\n",
      "day:100\n",
      "{'infected': 107, 'dead': 2889, 'never infected': 211, 'recovered': 6793}\n",
      "day:110\n",
      "{'infected': 56, 'dead': 2915, 'never infected': 171, 'recovered': 6858}\n",
      "day:120\n",
      "{'infected': 63, 'dead': 2929, 'never infected': 119, 'recovered': 6889}\n",
      "day:130\n",
      "{'infected': 45, 'dead': 2944, 'never infected': 93, 'recovered': 6918}\n",
      "day:140\n",
      "{'infected': 32, 'dead': 2953, 'never infected': 73, 'recovered': 6942}\n",
      "day:150\n",
      "{'infected': 15, 'dead': 2961, 'never infected': 63, 'recovered': 6961}\n",
      "day:160\n",
      "{'infected': 13, 'dead': 2963, 'never infected': 53, 'recovered': 6971}\n",
      "day:170\n",
      "{'infected': 12, 'dead': 2966, 'never infected': 45, 'recovered': 6977}\n",
      "day:180\n",
      "{'infected': 9, 'dead': 2967, 'never infected': 41, 'recovered': 6983}\n",
      "day:190\n",
      "{'infected': 10, 'dead': 2970, 'never infected': 33, 'recovered': 6987}\n",
      "day:200\n",
      "{'infected': 6, 'dead': 2971, 'never infected': 29, 'recovered': 6994}\n",
      "day:210\n",
      "{'infected': 5, 'dead': 2973, 'never infected': 26, 'recovered': 6996}\n",
      "day:220\n",
      "{'infected': 5, 'dead': 2973, 'never infected': 23, 'recovered': 6999}\n",
      "day:230\n",
      "{'infected': 5, 'dead': 2973, 'never infected': 20, 'recovered': 7002}\n",
      "day:240\n",
      "{'infected': 1, 'dead': 2973, 'never infected': 20, 'recovered': 7006}\n"
     ]
    }
   ],
   "source": [
    "daily_stats = []\n",
    "city_social_network.nodes[0]['infected'] = True\n",
    "city_social_network.nodes[0]['infected_date'] = 0\n",
    "total_infections = 1\n",
    "day=0\n",
    "while total_infections>0:\n",
    "    \n",
    "    simulate_single_day(city_social_network,day)\n",
    "    daily_stats.append(get_disease_stats(city_social_network))\n",
    "    if day%10==0:\n",
    "        print('day:'+str(day))\n",
    "        print(daily_stats[-1])\n",
    "    total_infections = daily_stats[-1]['infected']\n",
    "    day+=1"
   ]
  },
  {
   "cell_type": "code",
   "execution_count": 763,
   "metadata": {},
   "outputs": [],
   "source": [
    "def plot_infection_progression(daily_stats):\n",
    "    df = pd.DataFrame(daily_stats)\n",
    "    colors = [[0.5,0.5,0.5], [0.6,0,0], [0,0.5,0],[0,0.75,0] ] # grey, red, light green, dark green\n",
    "    df.plot(y = ['dead', 'infected', 'recovered', 'never infected'], color = colors)\n",
    "    \n",
    "    df.plot.area(y = ['dead', 'infected', 'recovered', 'never infected'], color = colors)\n",
    "    plt.show()\n",
    "  \n",
    "\n",
    "    "
   ]
  },
  {
   "cell_type": "code",
   "execution_count": 764,
   "metadata": {},
   "outputs": [
    {
     "data": {
      "image/png": "[encoded data removed]",
      "text/plain": [
       "<Figure size 432x288 with 1 Axes>"
      ]
     },
     "metadata": {
      "needs_background": "light"
     },
     "output_type": "display_data"
    },
    {
     "data": {
      "image/png": "[encoded data removed]",
      "text/plain": [
       "<Figure size 432x288 with 1 Axes>"
      ]
     },
     "metadata": {
      "needs_background": "light"
     },
     "output_type": "display_data"
    }
   ],
   "source": [
    "plot_infection_progression(daily_stats)"
   ]
  },
  {
   "cell_type": "code",
   "execution_count": null,
   "metadata": {},
   "outputs": [],
   "source": []
  },
  {
   "cell_type": "code",
   "execution_count": null,
   "metadata": {},
   "outputs": [],
   "source": []
  }
 ],
 "metadata": {
  "kernelspec": {
   "display_name": ".venv",
   "language": "python",
   "name": ".venv"
  },
  "language_info": {
   "codemirror_mode": {
    "name": "ipython",
    "version": 3
   },
   "file_extension": ".py",
   "mimetype": "text/x-python",
   "name": "python",
   "nbconvert_exporter": "python",
   "pygments_lexer": "ipython3",
   "version": "3.7.6"
  }
 },
 "nbformat": 4,
 "nbformat_minor": 4
}
