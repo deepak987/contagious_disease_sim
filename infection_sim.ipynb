{
 "cells": [
  {
   "cell_type": "code",
   "execution_count": 796,
   "metadata": {},
   "outputs": [],
   "source": [
    "import networkx as nx\n",
    "import numpy as np\n",
    "import matplotlib.pyplot as plt\n",
    "import pandas as pd\n",
    "import string\n",
    "import random\n",
    "from collections import Counter\n",
    "import sys\n",
    "%matplotlib inline"
   ]
  },
  {
   "cell_type": "markdown",
   "metadata": {},
   "source": [
    "# Our City\n",
    "\n",
    "These are constants that define the behaviour of the city - "
   ]
  },
  {
   "cell_type": "code",
   "execution_count": 797,
   "metadata": {},
   "outputs": [],
   "source": [
    "CITY_POPULATION = 10000\n",
    "MEAN_NETWORK_DEGREE = 50\n",
    "MEAN_INTERACTIONS_PER_DAY = 20\n"
   ]
  },
  {
   "cell_type": "markdown",
   "metadata": {},
   "source": [
    "The city is modeled as a small-world network graph (https://en.wikipedia.org/wiki/Small-world_network)\n",
    "\n",
    "The graph is generated using the Watts–Strogatz model (https://en.wikipedia.org/wiki/Watts%E2%80%93Strogatz_model)"
   ]
  },
  {
   "cell_type": "code",
   "execution_count": 798,
   "metadata": {},
   "outputs": [],
   "source": [
    "BETA = 0.5 # a parameter for the Watts–Strogatz read wiki page for more details\n",
    "city_social_network = nx.watts_strogatz_graph(CITY_POPULATION, MEAN_NETWORK_DEGREE, BETA)\n"
   ]
  },
  {
   "cell_type": "markdown",
   "metadata": {},
   "source": [
    "### Network characteristics\n",
    "\n",
    "Let's look at the distribution of number of connections each person has in the city"
   ]
  },
  {
   "cell_type": "code",
   "execution_count": 799,
   "metadata": {},
   "outputs": [
    {
     "data": {
      "text/plain": [
       "<BarContainer object of 33 artists>"
      ]
     },
     "execution_count": 799,
     "metadata": {},
     "output_type": "execute_result"
    },
    {
     "data": {
      "image/png": "[encoded data removed]",
      "text/plain": [
       "<Figure size 432x288 with 1 Axes>"
      ]
     },
     "metadata": {
      "needs_background": "light"
     },
     "output_type": "display_data"
    }
   ],
   "source": [
    "degrees = dict(city_social_network.degree()).values()\n",
    "degree_counts = np.unique(list(degrees), return_counts = True)\n",
    "degree_counts\n",
    "plt.bar(degree_counts[0], degree_counts[1]) \n"
   ]
  },
  {
   "cell_type": "markdown",
   "metadata": {},
   "source": [
    "Age is an important characteristic in the prognosis of many diseases, including COVID'19\n",
    "\n",
    "We model our city's population's age on that of the USA.\n",
    "Based on 2000 Census data (https://www.census.gov/prod/cen2010/briefs/c2010br-03.pdf)"
   ]
  },
  {
   "cell_type": "code",
   "execution_count": 800,
   "metadata": {},
   "outputs": [],
   "source": [
    "age_group_numbers_USA = [19175798,20549505,20528072,20219890,18964001,19381336,20510388,22706664,22441863, 20092404,17585548,13469237, 10805447,9533545,8857441,7415813,4945367,2789818,1112531,286784,50454,]"
   ]
  },
  {
   "cell_type": "markdown",
   "metadata": {},
   "source": [
    "Each age group is of 5 years - under 5yo, 5-10, 10-15 .... 95-100, >100\n",
    "\n",
    "For convenience, we choose a representative age for each group"
   ]
  },
  {
   "cell_type": "code",
   "execution_count": 801,
   "metadata": {},
   "outputs": [
    {
     "data": {
      "image/png": "[encoded data removed]",
      "text/plain": [
       "<Figure size 432x288 with 1 Axes>"
      ]
     },
     "metadata": {
      "needs_background": "light"
     },
     "output_type": "display_data"
    }
   ],
   "source": [
    "age_group_ratios = np.array(age_group_numbers_USA)/sum(age_group_numbers_USA)\n",
    "ages = [2, 7, 12, 17, 22, 27, 32, 37, 42, 47, 52, 57, 62, 67, 72, 77, 82, 87, 92, 97, 102]\n",
    "plt.bar(ages, age_group_ratios)\n",
    "plt.title('Age distribution of the USA')\n",
    "plt.show()"
   ]
  },
  {
   "cell_type": "markdown",
   "metadata": {},
   "source": [
    "Assigning an age to each person in our city"
   ]
  },
  {
   "cell_type": "code",
   "execution_count": 802,
   "metadata": {},
   "outputs": [],
   "source": [
    "city_ages = np.random.choice(ages, CITY_POPULATION, p = age_group_ratios)"
   ]
  },
  {
   "cell_type": "code",
   "execution_count": 803,
   "metadata": {},
   "outputs": [
    {
     "data": {
      "image/png": "[encoded data removed]",
      "text/plain": [
       "<Figure size 432x288 with 1 Axes>"
      ]
     },
     "metadata": {
      "needs_background": "light"
     },
     "output_type": "display_data"
    }
   ],
   "source": [
    "age_dist = np.unique(city_ages, return_counts = True)\n",
    "plt.bar(age_dist[0], age_dist[1])\n",
    "plt.title('Age distribution of our city')\n",
    "plt.show()"
   ]
  },
  {
   "cell_type": "markdown",
   "metadata": {},
   "source": [
    "Wrapping all of this into a single function for convenience, and initializing some other parameters "
   ]
  },
  {
   "cell_type": "code",
   "execution_count": 804,
   "metadata": {},
   "outputs": [],
   "source": [
    "def init_city():\n",
    "    city_social_network = nx.watts_strogatz_graph(CITY_POPULATION, MEAN_NETWORK_DEGREE, BETA)\n",
    "    city_ages = np.random.choice(ages, CITY_POPULATION, p = age_group_ratios)\n",
    "    for i in range(CITY_POPULATION):\n",
    "        city_social_network.nodes[i]['age'] = city_ages[i]\n",
    "        city_social_network.nodes[i]['infected'] = False\n",
    "        city_social_network.nodes[i]['alive'] = True\n",
    "        city_social_network.nodes[i]['isolated'] = False\n",
    "        city_social_network.nodes[i]['infected_date'] = sys.maxsize\n",
    "        city_social_network.nodes[i]['recovered'] = False\n",
    "    return city_social_network\n"
   ]
  },
  {
   "cell_type": "markdown",
   "metadata": {},
   "source": [
    "# Our disease\n",
    "Some parameters that define our disease"
   ]
  },
  {
   "cell_type": "code",
   "execution_count": 805,
   "metadata": {},
   "outputs": [],
   "source": [
    "TRANSMISSION_RATE = 1.0/100\n",
    "ILLNESS_LENGTH_DAYS = 14\n",
    "SYMPTOMATIC_RATE = 0.5"
   ]
  },
  {
   "cell_type": "markdown",
   "metadata": {},
   "source": [
    "We define a probabilty function of the disease being fatal - based on the age of the patient"
   ]
  },
  {
   "cell_type": "code",
   "execution_count": 822,
   "metadata": {},
   "outputs": [],
   "source": [
    "def mortality_pdf(age):\n",
    "    # a slightly simplistic placeholder \n",
    "    return ((age-102)/1020 +0.2)"
   ]
  },
  {
   "cell_type": "code",
   "execution_count": 823,
   "metadata": {},
   "outputs": [
    {
     "data": {
      "text/plain": [
       "[<matplotlib.lines.Line2D at 0x161686ed0>]"
      ]
     },
     "execution_count": 823,
     "metadata": {},
     "output_type": "execute_result"
    },
    {
     "data": {
      "image/png": "[encoded data removed]",
      "text/plain": [
       "<Figure size 432x288 with 1 Axes>"
      ]
     },
     "metadata": {
      "needs_background": "light"
     },
     "output_type": "display_data"
    }
   ],
   "source": [
    "plt.plot(ages,[mortality_pdf(age) for age in ages])"
   ]
  },
  {
   "cell_type": "markdown",
   "metadata": {},
   "source": [
    "# Now, the actual simulations"
   ]
  },
  {
   "cell_type": "code",
   "execution_count": 824,
   "metadata": {},
   "outputs": [],
   "source": [
    "def get_disease_stats(city_graph):\n",
    "    \"\"\"\n",
    "    Look at the disease spread in the population\n",
    "    \"\"\"\n",
    "    total_infected = 0\n",
    "    total_dead = 0\n",
    "    total_healthy = 0\n",
    "    total_recovered = 0\n",
    "    for i in city_graph.nodes():\n",
    "        if not city_graph.nodes[i]['alive']:\n",
    "            total_dead+=1\n",
    "        #dead people are not infected\n",
    "        elif city_graph.nodes[i]['infected']:\n",
    "            total_infected +=1\n",
    "        elif city_graph.nodes[i]['recovered']:\n",
    "            total_recovered +=1\n",
    "        \n",
    "        else:\n",
    "            total_healthy+=1\n",
    "    return{'infected':total_infected, 'dead': total_dead, 'never infected':total_healthy, 'recovered': total_recovered}\n",
    "        \n",
    "        "
   ]
  },
  {
   "cell_type": "markdown",
   "metadata": {},
   "source": [
    "Based on the previously defined behaviour of our citizens, we generate a set of 'interactions' for the day. An interaction is a meeting between two people that may spread the disease\n",
    "\n",
    "The below function assumes no preventative measures are made at all"
   ]
  },
  {
   "cell_type": "code",
   "execution_count": 825,
   "metadata": {},
   "outputs": [],
   "source": [
    "def get_daily_visits_no_preventative_measures(city_graph):\n",
    "    total_visits_in_day = (len(city_graph.nodes)*MEAN_INTERACTIONS_PER_DAY)/2 # Two people take part in an interaction\n",
    "    day_visits = random.sample(list(city_graph.edges), int(total_visits_in_day))\n",
    "    return day_visits\n",
    "    "
   ]
  },
  {
   "cell_type": "markdown",
   "metadata": {},
   "source": [
    "Distribution of Interactions on Day 0 (by person):"
   ]
  },
  {
   "cell_type": "code",
   "execution_count": 826,
   "metadata": {},
   "outputs": [],
   "source": [
    "day_0_interactions = get_daily_visits(city_social_network)\n",
    "interactions_per_person = Counter()\n",
    "for interaction in day_0_interactions:\n",
    "    interactions_per_person[interaction[0]]+=1\n",
    "    interactions_per_person[interaction[1]]+=1\n",
    "    "
   ]
  },
  {
   "cell_type": "code",
   "execution_count": 827,
   "metadata": {},
   "outputs": [
    {
     "data": {
      "text/plain": [
       "<BarContainer object of 28 artists>"
      ]
     },
     "execution_count": 827,
     "metadata": {},
     "output_type": "execute_result"
    },
    {
     "data": {
      "image/png": "[encoded data removed]",
      "text/plain": [
       "<Figure size 432x288 with 1 Axes>"
      ]
     },
     "metadata": {
      "needs_background": "light"
     },
     "output_type": "display_data"
    }
   ],
   "source": [
    "hist = np.unique(list(interactions_per_person.values()), return_counts = True)\n",
    "plt.bar(hist[0],hist[1])"
   ]
  },
  {
   "cell_type": "code",
   "execution_count": 828,
   "metadata": {},
   "outputs": [],
   "source": [
    "\n",
    "def simulate_single_day(city_graph, day_number):\n",
    "    \n",
    "    interactions = get_daily_visits_no_preventative_measures(city_graph)\n",
    "    \n",
    "    for p1,p2 in interactions:\n",
    "        if not city_graph.nodes[p1]['alive'] or not city_graph.nodes[p1]['alive']:\n",
    "            continue\n",
    "        if city_graph.nodes[p1]['infected'] and city_graph.nodes[p2]['infected']:\n",
    "            continue\n",
    "        if city_graph.nodes[p1]['recovered'] or city_graph.nodes[p2]['recovered']:\n",
    "            continue\n",
    "        if not city_graph.nodes[p1]['infected'] and not city_graph.nodes[p2]['infected']:\n",
    "            continue\n",
    "        # one of the people is infected.\n",
    "        if random.uniform(0, 1) < TRANSMISSION_RATE:\n",
    "            #infect!\n",
    "            if not city_graph.nodes[p1]['infected']:\n",
    "                \n",
    "                city_graph.nodes[p1]['infected'] = True\n",
    "                city_graph.nodes[p1]['infected_date'] = day_number\n",
    "            else:\n",
    "                \n",
    "                city_graph.nodes[p2]['infected'] = True\n",
    "                city_graph.nodes[p2]['infected_date'] = day_number\n",
    "    for p in city_graph.nodes():\n",
    "        if day_number - city_graph.nodes[p]['infected_date'] == ILLNESS_LENGTH_DAYS:\n",
    "            if random.uniform(0, 1) < mortality_pdf(city_graph.nodes[p]['age']) :\n",
    "                city_graph.nodes[p]['alive'] = False\n",
    "            else:\n",
    "                city_graph.nodes[p]['recovered'] = True\n",
    "                city_graph.nodes[p]['infected'] = False\n",
    "  "
   ]
  },
  {
   "cell_type": "code",
   "execution_count": 829,
   "metadata": {},
   "outputs": [
    {
     "name": "stdout",
     "output_type": "stream",
     "text": [
      "day:0\n",
      "{'infected': 1, 'dead': 0, 'never infected': 9999, 'recovered': 0}\n",
      "day:10\n",
      "{'infected': 12, 'dead': 0, 'never infected': 9988, 'recovered': 0}\n",
      "day:20\n",
      "{'infected': 74, 'dead': 1, 'never infected': 9920, 'recovered': 5}\n",
      "day:30\n",
      "{'infected': 408, 'dead': 3, 'never infected': 9550, 'recovered': 39}\n",
      "day:40\n",
      "{'infected': 1807, 'dead': 22, 'never infected': 7969, 'recovered': 202}\n",
      "day:50\n",
      "{'infected': 4625, 'dead': 151, 'never infected': 4231, 'recovered': 993}\n",
      "day:60\n",
      "{'infected': 4309, 'dead': 574, 'never infected': 1551, 'recovered': 3566}\n",
      "day:70\n",
      "{'infected': 1495, 'dead': 1057, 'never infected': 778, 'recovered': 6670}\n",
      "day:80\n",
      "{'infected': 403, 'dead': 1225, 'never infected': 557, 'recovered': 7815}\n",
      "day:90\n",
      "{'infected': 168, 'dead': 1272, 'never infected': 453, 'recovered': 8107}\n",
      "day:100\n",
      "{'infected': 86, 'dead': 1286, 'never infected': 400, 'recovered': 8228}\n",
      "day:110\n",
      "{'infected': 63, 'dead': 1292, 'never infected': 365, 'recovered': 8280}\n",
      "day:120\n",
      "{'infected': 44, 'dead': 1303, 'never infected': 330, 'recovered': 8323}\n",
      "day:130\n",
      "{'infected': 49, 'dead': 1307, 'never infected': 299, 'recovered': 8345}\n",
      "day:140\n",
      "{'infected': 33, 'dead': 1311, 'never infected': 277, 'recovered': 8379}\n",
      "day:150\n",
      "{'infected': 26, 'dead': 1314, 'never infected': 258, 'recovered': 8402}\n",
      "day:160\n",
      "{'infected': 27, 'dead': 1318, 'never infected': 234, 'recovered': 8421}\n",
      "day:170\n",
      "{'infected': 21, 'dead': 1320, 'never infected': 223, 'recovered': 8436}\n",
      "day:180\n",
      "{'infected': 23, 'dead': 1321, 'never infected': 206, 'recovered': 8450}\n",
      "day:190\n",
      "{'infected': 24, 'dead': 1322, 'never infected': 187, 'recovered': 8467}\n",
      "day:200\n",
      "{'infected': 18, 'dead': 1323, 'never infected': 177, 'recovered': 8482}\n",
      "day:210\n",
      "{'infected': 21, 'dead': 1324, 'never infected': 165, 'recovered': 8490}\n",
      "day:220\n",
      "{'infected': 18, 'dead': 1325, 'never infected': 152, 'recovered': 8505}\n",
      "day:230\n",
      "{'infected': 19, 'dead': 1329, 'never infected': 139, 'recovered': 8513}\n",
      "day:240\n",
      "{'infected': 11, 'dead': 1330, 'never infected': 131, 'recovered': 8528}\n",
      "day:250\n",
      "{'infected': 6, 'dead': 1332, 'never infected': 128, 'recovered': 8534}\n",
      "day:260\n",
      "{'infected': 15, 'dead': 1333, 'never infected': 113, 'recovered': 8539}\n",
      "day:270\n",
      "{'infected': 9, 'dead': 1335, 'never infected': 106, 'recovered': 8550}\n",
      "day:280\n",
      "{'infected': 5, 'dead': 1336, 'never infected': 103, 'recovered': 8556}\n",
      "day:290\n",
      "{'infected': 6, 'dead': 1336, 'never infected': 98, 'recovered': 8560}\n",
      "day:300\n",
      "{'infected': 7, 'dead': 1338, 'never infected': 94, 'recovered': 8561}\n",
      "day:310\n",
      "{'infected': 4, 'dead': 1339, 'never infected': 93, 'recovered': 8564}\n",
      "day:320\n",
      "{'infected': 4, 'dead': 1340, 'never infected': 89, 'recovered': 8567}\n",
      "day:330\n",
      "{'infected': 5, 'dead': 1340, 'never infected': 85, 'recovered': 8570}\n",
      "day:340\n",
      "{'infected': 4, 'dead': 1340, 'never infected': 82, 'recovered': 8574}\n",
      "day:350\n",
      "{'infected': 2, 'dead': 1340, 'never infected': 82, 'recovered': 8576}\n"
     ]
    },
    {
     "data": {
      "text/plain": [
       "[{'infected': 1, 'dead': 0, 'never infected': 9999, 'recovered': 0},\n",
       " {'infected': 1, 'dead': 0, 'never infected': 9999, 'recovered': 0},\n",
       " {'infected': 1, 'dead': 0, 'never infected': 9999, 'recovered': 0},\n",
       " {'infected': 1, 'dead': 0, 'never infected': 9999, 'recovered': 0},\n",
       " {'infected': 1, 'dead': 0, 'never infected': 9999, 'recovered': 0},\n",
       " {'infected': 5, 'dead': 0, 'never infected': 9995, 'recovered': 0},\n",
       " {'infected': 6, 'dead': 0, 'never infected': 9994, 'recovered': 0},\n",
       " {'infected': 8, 'dead': 0, 'never infected': 9992, 'recovered': 0},\n",
       " {'infected': 8, 'dead': 0, 'never infected': 9992, 'recovered': 0},\n",
       " {'infected': 10, 'dead': 0, 'never infected': 9990, 'recovered': 0},\n",
       " {'infected': 12, 'dead': 0, 'never infected': 9988, 'recovered': 0},\n",
       " {'infected': 17, 'dead': 0, 'never infected': 9983, 'recovered': 0},\n",
       " {'infected': 20, 'dead': 0, 'never infected': 9980, 'recovered': 0},\n",
       " {'infected': 24, 'dead': 0, 'never infected': 9976, 'recovered': 0},\n",
       " {'infected': 27, 'dead': 0, 'never infected': 9972, 'recovered': 1},\n",
       " {'infected': 32, 'dead': 0, 'never infected': 9967, 'recovered': 1},\n",
       " {'infected': 41, 'dead': 0, 'never infected': 9958, 'recovered': 1},\n",
       " {'infected': 51, 'dead': 0, 'never infected': 9948, 'recovered': 1},\n",
       " {'infected': 57, 'dead': 0, 'never infected': 9942, 'recovered': 1},\n",
       " {'infected': 65, 'dead': 0, 'never infected': 9930, 'recovered': 5},\n",
       " {'infected': 74, 'dead': 1, 'never infected': 9920, 'recovered': 5},\n",
       " {'infected': 88, 'dead': 1, 'never infected': 9904, 'recovered': 7},\n",
       " {'infected': 104, 'dead': 1, 'never infected': 9888, 'recovered': 7},\n",
       " {'infected': 122, 'dead': 2, 'never infected': 9868, 'recovered': 8},\n",
       " {'infected': 151, 'dead': 2, 'never infected': 9837, 'recovered': 10},\n",
       " {'infected': 174, 'dead': 2, 'never infected': 9809, 'recovered': 15},\n",
       " {'infected': 204, 'dead': 2, 'never infected': 9776, 'recovered': 18},\n",
       " {'infected': 246, 'dead': 2, 'never infected': 9730, 'recovered': 22},\n",
       " {'infected': 292, 'dead': 2, 'never infected': 9680, 'recovered': 26},\n",
       " {'infected': 343, 'dead': 2, 'never infected': 9624, 'recovered': 31},\n",
       " {'infected': 408, 'dead': 3, 'never infected': 9550, 'recovered': 39},\n",
       " {'infected': 465, 'dead': 3, 'never infected': 9483, 'recovered': 49},\n",
       " {'infected': 547, 'dead': 4, 'never infected': 9395, 'recovered': 54},\n",
       " {'infected': 645, 'dead': 5, 'never infected': 9285, 'recovered': 65},\n",
       " {'infected': 770, 'dead': 6, 'never infected': 9150, 'recovered': 74},\n",
       " {'infected': 895, 'dead': 8, 'never infected': 9009, 'recovered': 88},\n",
       " {'infected': 1032, 'dead': 11, 'never infected': 8856, 'recovered': 101},\n",
       " {'infected': 1192, 'dead': 15, 'never infected': 8676, 'recovered': 117},\n",
       " {'infected': 1395, 'dead': 16, 'never infected': 8442, 'recovered': 147},\n",
       " {'infected': 1574, 'dead': 19, 'never infected': 8235, 'recovered': 172},\n",
       " {'infected': 1807, 'dead': 22, 'never infected': 7969, 'recovered': 202},\n",
       " {'infected': 2014, 'dead': 30, 'never infected': 7716, 'recovered': 240},\n",
       " {'infected': 2273, 'dead': 38, 'never infected': 7407, 'recovered': 282},\n",
       " {'infected': 2593, 'dead': 45, 'never infected': 7031, 'recovered': 331},\n",
       " {'infected': 2882, 'dead': 54, 'never infected': 6668, 'recovered': 396},\n",
       " {'infected': 3196, 'dead': 64, 'never infected': 6287, 'recovered': 453},\n",
       " {'infected': 3535, 'dead': 71, 'never infected': 5860, 'recovered': 534},\n",
       " {'infected': 3829, 'dead': 85, 'never infected': 5456, 'recovered': 630},\n",
       " {'infected': 4123, 'dead': 112, 'never infected': 5027, 'recovered': 738},\n",
       " {'infected': 4347, 'dead': 129, 'never infected': 4662, 'recovered': 862},\n",
       " {'infected': 4625, 'dead': 151, 'never infected': 4231, 'recovered': 993},\n",
       " {'infected': 4812, 'dead': 179, 'never infected': 3864, 'recovered': 1145},\n",
       " {'infected': 4954, 'dead': 219, 'never infected': 3488, 'recovered': 1339},\n",
       " {'infected': 5083, 'dead': 241, 'never infected': 3152, 'recovered': 1524},\n",
       " {'infected': 5125, 'dead': 282, 'never infected': 2844, 'recovered': 1749},\n",
       " {'infected': 5160, 'dead': 324, 'never infected': 2556, 'recovered': 1960},\n",
       " {'infected': 5134, 'dead': 359, 'never infected': 2273, 'recovered': 2234},\n",
       " {'infected': 4971, 'dead': 418, 'never infected': 2060, 'recovered': 2551},\n",
       " {'infected': 4798, 'dead': 464, 'never infected': 1870, 'recovered': 2868},\n",
       " {'infected': 4577, 'dead': 518, 'never infected': 1710, 'recovered': 3195},\n",
       " {'infected': 4309, 'dead': 574, 'never infected': 1551, 'recovered': 3566},\n",
       " {'infected': 4040, 'dead': 633, 'never infected': 1416, 'recovered': 3911},\n",
       " {'infected': 3755, 'dead': 699, 'never infected': 1272, 'recovered': 4274},\n",
       " {'infected': 3487, 'dead': 748, 'never infected': 1175, 'recovered': 4590},\n",
       " {'infected': 3134, 'dead': 799, 'never infected': 1097, 'recovered': 4970},\n",
       " {'infected': 2850, 'dead': 839, 'never infected': 1014, 'recovered': 5297},\n",
       " {'infected': 2528, 'dead': 884, 'never infected': 960, 'recovered': 5628},\n",
       " {'infected': 2250, 'dead': 938, 'never infected': 902, 'recovered': 5910},\n",
       " {'infected': 1995, 'dead': 977, 'never infected': 849, 'recovered': 6179},\n",
       " {'infected': 1745, 'dead': 1015, 'never infected': 811, 'recovered': 6429},\n",
       " {'infected': 1495, 'dead': 1057, 'never infected': 778, 'recovered': 6670},\n",
       " {'infected': 1322, 'dead': 1087, 'never infected': 738, 'recovered': 6853},\n",
       " {'infected': 1158, 'dead': 1109, 'never infected': 712, 'recovered': 7021},\n",
       " {'infected': 1020, 'dead': 1128, 'never infected': 690, 'recovered': 7162},\n",
       " {'infected': 881, 'dead': 1146, 'never infected': 670, 'recovered': 7303},\n",
       " {'infected': 774, 'dead': 1165, 'never infected': 642, 'recovered': 7419},\n",
       " {'infected': 651, 'dead': 1180, 'never infected': 621, 'recovered': 7548},\n",
       " {'infected': 582, 'dead': 1191, 'never infected': 593, 'recovered': 7634},\n",
       " {'infected': 517, 'dead': 1202, 'never infected': 580, 'recovered': 7701},\n",
       " {'infected': 447, 'dead': 1216, 'never infected': 567, 'recovered': 7770},\n",
       " {'infected': 403, 'dead': 1225, 'never infected': 557, 'recovered': 7815},\n",
       " {'infected': 361, 'dead': 1234, 'never infected': 541, 'recovered': 7864},\n",
       " {'infected': 325, 'dead': 1238, 'never infected': 524, 'recovered': 7913},\n",
       " {'infected': 293, 'dead': 1245, 'never infected': 518, 'recovered': 7944},\n",
       " {'infected': 272, 'dead': 1251, 'never infected': 506, 'recovered': 7971},\n",
       " {'infected': 241, 'dead': 1256, 'never infected': 497, 'recovered': 8006},\n",
       " {'infected': 226, 'dead': 1261, 'never infected': 486, 'recovered': 8027},\n",
       " {'infected': 211, 'dead': 1264, 'never infected': 479, 'recovered': 8046},\n",
       " {'infected': 199, 'dead': 1267, 'never infected': 471, 'recovered': 8063},\n",
       " {'infected': 183, 'dead': 1268, 'never infected': 459, 'recovered': 8090},\n",
       " {'infected': 168, 'dead': 1272, 'never infected': 453, 'recovered': 8107},\n",
       " {'infected': 146, 'dead': 1275, 'never infected': 447, 'recovered': 8132},\n",
       " {'infected': 138, 'dead': 1276, 'never infected': 442, 'recovered': 8144},\n",
       " {'infected': 130, 'dead': 1276, 'never infected': 437, 'recovered': 8157},\n",
       " {'infected': 122, 'dead': 1277, 'never infected': 435, 'recovered': 8166},\n",
       " {'infected': 111, 'dead': 1282, 'never infected': 430, 'recovered': 8177},\n",
       " {'infected': 96, 'dead': 1284, 'never infected': 428, 'recovered': 8192},\n",
       " {'infected': 94, 'dead': 1284, 'never infected': 424, 'recovered': 8198},\n",
       " {'infected': 88, 'dead': 1285, 'never infected': 418, 'recovered': 8209},\n",
       " {'infected': 89, 'dead': 1285, 'never infected': 408, 'recovered': 8218},\n",
       " {'infected': 86, 'dead': 1286, 'never infected': 400, 'recovered': 8228},\n",
       " {'infected': 83, 'dead': 1286, 'never infected': 396, 'recovered': 8235},\n",
       " {'infected': 84, 'dead': 1286, 'never infected': 387, 'recovered': 8243},\n",
       " {'infected': 78, 'dead': 1288, 'never infected': 381, 'recovered': 8253},\n",
       " {'infected': 74, 'dead': 1289, 'never infected': 379, 'recovered': 8258},\n",
       " {'infected': 70, 'dead': 1290, 'never infected': 377, 'recovered': 8263},\n",
       " {'infected': 68, 'dead': 1290, 'never infected': 374, 'recovered': 8268},\n",
       " {'infected': 65, 'dead': 1291, 'never infected': 372, 'recovered': 8272},\n",
       " {'infected': 66, 'dead': 1292, 'never infected': 369, 'recovered': 8273},\n",
       " {'infected': 62, 'dead': 1292, 'never infected': 368, 'recovered': 8278},\n",
       " {'infected': 63, 'dead': 1292, 'never infected': 365, 'recovered': 8280},\n",
       " {'infected': 64, 'dead': 1293, 'never infected': 360, 'recovered': 8283},\n",
       " {'infected': 60, 'dead': 1294, 'never infected': 358, 'recovered': 8288},\n",
       " {'infected': 52, 'dead': 1298, 'never infected': 356, 'recovered': 8294},\n",
       " {'infected': 46, 'dead': 1299, 'never infected': 354, 'recovered': 8301},\n",
       " {'infected': 44, 'dead': 1301, 'never infected': 352, 'recovered': 8303},\n",
       " {'infected': 39, 'dead': 1302, 'never infected': 348, 'recovered': 8311},\n",
       " {'infected': 41, 'dead': 1303, 'never infected': 340, 'recovered': 8316},\n",
       " {'infected': 39, 'dead': 1303, 'never infected': 340, 'recovered': 8318},\n",
       " {'infected': 41, 'dead': 1303, 'never infected': 336, 'recovered': 8320},\n",
       " {'infected': 44, 'dead': 1303, 'never infected': 330, 'recovered': 8323},\n",
       " {'infected': 47, 'dead': 1303, 'never infected': 325, 'recovered': 8325},\n",
       " {'infected': 49, 'dead': 1303, 'never infected': 320, 'recovered': 8328},\n",
       " {'infected': 50, 'dead': 1303, 'never infected': 318, 'recovered': 8329},\n",
       " {'infected': 47, 'dead': 1303, 'never infected': 318, 'recovered': 8332},\n",
       " {'infected': 46, 'dead': 1303, 'never infected': 314, 'recovered': 8337},\n",
       " {'infected': 48, 'dead': 1304, 'never infected': 310, 'recovered': 8338},\n",
       " {'infected': 52, 'dead': 1304, 'never infected': 304, 'recovered': 8340},\n",
       " {'infected': 52, 'dead': 1304, 'never infected': 302, 'recovered': 8342},\n",
       " {'infected': 51, 'dead': 1304, 'never infected': 301, 'recovered': 8344},\n",
       " {'infected': 49, 'dead': 1307, 'never infected': 299, 'recovered': 8345},\n",
       " {'infected': 44, 'dead': 1308, 'never infected': 296, 'recovered': 8352},\n",
       " {'infected': 47, 'dead': 1308, 'never infected': 293, 'recovered': 8352},\n",
       " {'infected': 46, 'dead': 1308, 'never infected': 290, 'recovered': 8356},\n",
       " {'infected': 43, 'dead': 1310, 'never infected': 287, 'recovered': 8360},\n",
       " {'infected': 40, 'dead': 1310, 'never infected': 285, 'recovered': 8365},\n",
       " {'infected': 36, 'dead': 1310, 'never infected': 284, 'recovered': 8370},\n",
       " {'infected': 38, 'dead': 1310, 'never infected': 280, 'recovered': 8372},\n",
       " {'infected': 38, 'dead': 1310, 'never infected': 280, 'recovered': 8372},\n",
       " {'infected': 34, 'dead': 1311, 'never infected': 280, 'recovered': 8375},\n",
       " {'infected': 33, 'dead': 1311, 'never infected': 277, 'recovered': 8379},\n",
       " {'infected': 29, 'dead': 1311, 'never infected': 275, 'recovered': 8385},\n",
       " {'infected': 28, 'dead': 1311, 'never infected': 274, 'recovered': 8387},\n",
       " {'infected': 31, 'dead': 1311, 'never infected': 270, 'recovered': 8388},\n",
       " {'infected': 30, 'dead': 1311, 'never infected': 269, 'recovered': 8390},\n",
       " {'infected': 30, 'dead': 1312, 'never infected': 266, 'recovered': 8392},\n",
       " {'infected': 32, 'dead': 1312, 'never infected': 261, 'recovered': 8395},\n",
       " {'infected': 30, 'dead': 1313, 'never infected': 260, 'recovered': 8397},\n",
       " {'infected': 28, 'dead': 1314, 'never infected': 259, 'recovered': 8399},\n",
       " {'infected': 27, 'dead': 1314, 'never infected': 258, 'recovered': 8401},\n",
       " {'infected': 26, 'dead': 1314, 'never infected': 258, 'recovered': 8402},\n",
       " {'infected': 22, 'dead': 1315, 'never infected': 258, 'recovered': 8405},\n",
       " {'infected': 25, 'dead': 1315, 'never infected': 255, 'recovered': 8405},\n",
       " {'infected': 29, 'dead': 1315, 'never infected': 251, 'recovered': 8405},\n",
       " {'infected': 28, 'dead': 1315, 'never infected': 249, 'recovered': 8408},\n",
       " {'infected': 30, 'dead': 1315, 'never infected': 245, 'recovered': 8410},\n",
       " {'infected': 30, 'dead': 1316, 'never infected': 244, 'recovered': 8410},\n",
       " {'infected': 28, 'dead': 1316, 'never infected': 242, 'recovered': 8414},\n",
       " {'infected': 30, 'dead': 1316, 'never infected': 239, 'recovered': 8415},\n",
       " {'infected': 29, 'dead': 1316, 'never infected': 237, 'recovered': 8418},\n",
       " {'infected': 27, 'dead': 1318, 'never infected': 234, 'recovered': 8421},\n",
       " {'infected': 28, 'dead': 1318, 'never infected': 232, 'recovered': 8422},\n",
       " {'infected': 27, 'dead': 1318, 'never infected': 232, 'recovered': 8423},\n",
       " {'infected': 27, 'dead': 1318, 'never infected': 231, 'recovered': 8424},\n",
       " {'infected': 27, 'dead': 1318, 'never infected': 231, 'recovered': 8424},\n",
       " {'infected': 27, 'dead': 1318, 'never infected': 231, 'recovered': 8424},\n",
       " {'infected': 26, 'dead': 1318, 'never infected': 229, 'recovered': 8427},\n",
       " {'infected': 25, 'dead': 1318, 'never infected': 226, 'recovered': 8431},\n",
       " {'infected': 24, 'dead': 1320, 'never infected': 225, 'recovered': 8431},\n",
       " {'infected': 21, 'dead': 1320, 'never infected': 224, 'recovered': 8435},\n",
       " {'infected': 21, 'dead': 1320, 'never infected': 223, 'recovered': 8436},\n",
       " {'infected': 22, 'dead': 1320, 'never infected': 220, 'recovered': 8438},\n",
       " {'infected': 21, 'dead': 1320, 'never infected': 218, 'recovered': 8441},\n",
       " {'infected': 22, 'dead': 1320, 'never infected': 215, 'recovered': 8443},\n",
       " {'infected': 21, 'dead': 1320, 'never infected': 213, 'recovered': 8446},\n",
       " {'infected': 21, 'dead': 1321, 'never infected': 211, 'recovered': 8447},\n",
       " {'infected': 21, 'dead': 1321, 'never infected': 211, 'recovered': 8447},\n",
       " {'infected': 22, 'dead': 1321, 'never infected': 209, 'recovered': 8448},\n",
       " {'infected': 23, 'dead': 1321, 'never infected': 208, 'recovered': 8448},\n",
       " {'infected': 23, 'dead': 1321, 'never infected': 208, 'recovered': 8448},\n",
       " {'infected': 23, 'dead': 1321, 'never infected': 206, 'recovered': 8450},\n",
       " {'infected': 23, 'dead': 1321, 'never infected': 203, 'recovered': 8453},\n",
       " {'infected': 23, 'dead': 1321, 'never infected': 202, 'recovered': 8454},\n",
       " {'infected': 26, 'dead': 1322, 'never infected': 198, 'recovered': 8454},\n",
       " {'infected': 28, 'dead': 1322, 'never infected': 195, 'recovered': 8455},\n",
       " {'infected': 25, 'dead': 1322, 'never infected': 195, 'recovered': 8458},\n",
       " {'infected': 23, 'dead': 1322, 'never infected': 195, 'recovered': 8460},\n",
       " {'infected': 22, 'dead': 1322, 'never infected': 193, 'recovered': 8463},\n",
       " {'infected': 21, 'dead': 1322, 'never infected': 192, 'recovered': 8465},\n",
       " {'infected': 19, 'dead': 1322, 'never infected': 192, 'recovered': 8467},\n",
       " {'infected': 24, 'dead': 1322, 'never infected': 187, 'recovered': 8467},\n",
       " {'infected': 22, 'dead': 1322, 'never infected': 187, 'recovered': 8469},\n",
       " {'infected': 21, 'dead': 1323, 'never infected': 187, 'recovered': 8469},\n",
       " {'infected': 21, 'dead': 1323, 'never infected': 187, 'recovered': 8469},\n",
       " {'infected': 19, 'dead': 1323, 'never infected': 187, 'recovered': 8471},\n",
       " {'infected': 17, 'dead': 1323, 'never infected': 186, 'recovered': 8474},\n",
       " {'infected': 16, 'dead': 1323, 'never infected': 186, 'recovered': 8475},\n",
       " {'infected': 16, 'dead': 1323, 'never infected': 182, 'recovered': 8479},\n",
       " {'infected': 15, 'dead': 1323, 'never infected': 180, 'recovered': 8482},\n",
       " {'infected': 16, 'dead': 1323, 'never infected': 179, 'recovered': 8482},\n",
       " {'infected': 18, 'dead': 1323, 'never infected': 177, 'recovered': 8482},\n",
       " {'infected': 17, 'dead': 1323, 'never infected': 176, 'recovered': 8484},\n",
       " {'infected': 17, 'dead': 1323, 'never infected': 175, 'recovered': 8485},\n",
       " {'infected': 19, 'dead': 1323, 'never infected': 173, 'recovered': 8485},\n",
       " {'infected': 16, 'dead': 1324, 'never infected': 171, 'recovered': 8489},\n",
       " {'infected': 17, 'dead': 1324, 'never infected': 170, 'recovered': 8489},\n",
       " {'infected': 17, 'dead': 1324, 'never infected': 170, 'recovered': 8489},\n",
       " {'infected': 19, 'dead': 1324, 'never infected': 168, 'recovered': 8489},\n",
       " {'infected': 21, 'dead': 1324, 'never infected': 166, 'recovered': 8489},\n",
       " {'infected': 20, 'dead': 1324, 'never infected': 166, 'recovered': 8490},\n",
       " {'infected': 21, 'dead': 1324, 'never infected': 165, 'recovered': 8490},\n",
       " {'infected': 18, 'dead': 1325, 'never infected': 164, 'recovered': 8493},\n",
       " {'infected': 18, 'dead': 1325, 'never infected': 162, 'recovered': 8495},\n",
       " {'infected': 20, 'dead': 1325, 'never infected': 159, 'recovered': 8496},\n",
       " {'infected': 18, 'dead': 1325, 'never infected': 159, 'recovered': 8498},\n",
       " {'infected': 18, 'dead': 1325, 'never infected': 158, 'recovered': 8499},\n",
       " {'infected': 17, 'dead': 1325, 'never infected': 158, 'recovered': 8500},\n",
       " {'infected': 16, 'dead': 1325, 'never infected': 157, 'recovered': 8502},\n",
       " {'infected': 16, 'dead': 1325, 'never infected': 155, 'recovered': 8504},\n",
       " {'infected': 16, 'dead': 1325, 'never infected': 154, 'recovered': 8505},\n",
       " {'infected': 18, 'dead': 1325, 'never infected': 152, 'recovered': 8505},\n",
       " {'infected': 17, 'dead': 1327, 'never infected': 151, 'recovered': 8505},\n",
       " {'infected': 18, 'dead': 1327, 'never infected': 148, 'recovered': 8507},\n",
       " {'infected': 19, 'dead': 1327, 'never infected': 147, 'recovered': 8507},\n",
       " {'infected': 18, 'dead': 1327, 'never infected': 147, 'recovered': 8508},\n",
       " {'infected': 19, 'dead': 1327, 'never infected': 145, 'recovered': 8509},\n",
       " {'infected': 20, 'dead': 1327, 'never infected': 142, 'recovered': 8511},\n",
       " {'infected': 19, 'dead': 1329, 'never infected': 140, 'recovered': 8512},\n",
       " {'infected': 20, 'dead': 1329, 'never infected': 139, 'recovered': 8512},\n",
       " {'infected': 19, 'dead': 1329, 'never infected': 139, 'recovered': 8513},\n",
       " {'infected': 19, 'dead': 1329, 'never infected': 139, 'recovered': 8513},\n",
       " {'infected': 19, 'dead': 1329, 'never infected': 138, 'recovered': 8514},\n",
       " {'infected': 18, 'dead': 1330, 'never infected': 137, 'recovered': 8515},\n",
       " {'infected': 17, 'dead': 1330, 'never infected': 137, 'recovered': 8516},\n",
       " {'infected': 17, 'dead': 1330, 'never infected': 135, 'recovered': 8518},\n",
       " {'infected': 17, 'dead': 1330, 'never infected': 134, 'recovered': 8519},\n",
       " {'infected': 14, 'dead': 1330, 'never infected': 134, 'recovered': 8522},\n",
       " {'infected': 15, 'dead': 1330, 'never infected': 132, 'recovered': 8523},\n",
       " {'infected': 15, 'dead': 1330, 'never infected': 132, 'recovered': 8523},\n",
       " {'infected': 13, 'dead': 1330, 'never infected': 132, 'recovered': 8525},\n",
       " {'infected': 11, 'dead': 1330, 'never infected': 131, 'recovered': 8528},\n",
       " {'infected': 9, 'dead': 1330, 'never infected': 131, 'recovered': 8530},\n",
       " {'infected': 9, 'dead': 1331, 'never infected': 130, 'recovered': 8530},\n",
       " {'infected': 9, 'dead': 1331, 'never infected': 130, 'recovered': 8530},\n",
       " {'infected': 10, 'dead': 1331, 'never infected': 129, 'recovered': 8530},\n",
       " {'infected': 9, 'dead': 1331, 'never infected': 129, 'recovered': 8531},\n",
       " {'infected': 9, 'dead': 1331, 'never infected': 128, 'recovered': 8532},\n",
       " {'infected': 9, 'dead': 1331, 'never infected': 128, 'recovered': 8532},\n",
       " {'infected': 7, 'dead': 1332, 'never infected': 128, 'recovered': 8533},\n",
       " {'infected': 6, 'dead': 1332, 'never infected': 128, 'recovered': 8534},\n",
       " {'infected': 6, 'dead': 1332, 'never infected': 128, 'recovered': 8534},\n",
       " {'infected': 9, 'dead': 1332, 'never infected': 123, 'recovered': 8536},\n",
       " {'infected': 9, 'dead': 1332, 'never infected': 123, 'recovered': 8536},\n",
       " {'infected': 11, 'dead': 1332, 'never infected': 121, 'recovered': 8536},\n",
       " {'infected': 12, 'dead': 1332, 'never infected': 119, 'recovered': 8537},\n",
       " {'infected': 14, 'dead': 1332, 'never infected': 117, 'recovered': 8537},\n",
       " {'infected': 15, 'dead': 1332, 'never infected': 115, 'recovered': 8538},\n",
       " {'infected': 15, 'dead': 1332, 'never infected': 115, 'recovered': 8538},\n",
       " {'infected': 15, 'dead': 1333, 'never infected': 114, 'recovered': 8538},\n",
       " {'infected': 15, 'dead': 1333, 'never infected': 114, 'recovered': 8538},\n",
       " {'infected': 15, 'dead': 1333, 'never infected': 113, 'recovered': 8539},\n",
       " {'infected': 17, 'dead': 1333, 'never infected': 111, 'recovered': 8539},\n",
       " {'infected': 18, 'dead': 1333, 'never infected': 110, 'recovered': 8539},\n",
       " {'infected': 20, 'dead': 1333, 'never infected': 108, 'recovered': 8539},\n",
       " {'infected': 20, 'dead': 1333, 'never infected': 108, 'recovered': 8539},\n",
       " {'infected': 15, 'dead': 1333, 'never infected': 108, 'recovered': 8544},\n",
       " {'infected': 15, 'dead': 1333, 'never infected': 108, 'recovered': 8544},\n",
       " {'infected': 14, 'dead': 1333, 'never infected': 107, 'recovered': 8546},\n",
       " {'infected': 12, 'dead': 1334, 'never infected': 107, 'recovered': 8547},\n",
       " {'infected': 10, 'dead': 1334, 'never infected': 107, 'recovered': 8549},\n",
       " {'infected': 9, 'dead': 1335, 'never infected': 106, 'recovered': 8550},\n",
       " {'infected': 10, 'dead': 1335, 'never infected': 105, 'recovered': 8550},\n",
       " {'infected': 9, 'dead': 1335, 'never infected': 105, 'recovered': 8551},\n",
       " {'infected': 10, 'dead': 1335, 'never infected': 104, 'recovered': 8551},\n",
       " {'infected': 9, 'dead': 1335, 'never infected': 104, 'recovered': 8552},\n",
       " {'infected': 7, 'dead': 1336, 'never infected': 104, 'recovered': 8553},\n",
       " {'infected': 6, 'dead': 1336, 'never infected': 104, 'recovered': 8554},\n",
       " {'infected': 4, 'dead': 1336, 'never infected': 104, 'recovered': 8556},\n",
       " {'infected': 5, 'dead': 1336, 'never infected': 103, 'recovered': 8556},\n",
       " {'infected': 5, 'dead': 1336, 'never infected': 103, 'recovered': 8556},\n",
       " {'infected': 5, 'dead': 1336, 'never infected': 103, 'recovered': 8556},\n",
       " {'infected': 4, 'dead': 1336, 'never infected': 103, 'recovered': 8557},\n",
       " {'infected': 4, 'dead': 1336, 'never infected': 103, 'recovered': 8557},\n",
       " {'infected': 5, 'dead': 1336, 'never infected': 102, 'recovered': 8557},\n",
       " {'infected': 5, 'dead': 1336, 'never infected': 101, 'recovered': 8558},\n",
       " {'infected': 4, 'dead': 1336, 'never infected': 101, 'recovered': 8559},\n",
       " {'infected': 4, 'dead': 1336, 'never infected': 101, 'recovered': 8559},\n",
       " {'infected': 4, 'dead': 1336, 'never infected': 100, 'recovered': 8560},\n",
       " {'infected': 5, 'dead': 1336, 'never infected': 99, 'recovered': 8560},\n",
       " {'infected': 6, 'dead': 1336, 'never infected': 98, 'recovered': 8560},\n",
       " {'infected': 6, 'dead': 1336, 'never infected': 98, 'recovered': 8560},\n",
       " {'infected': 7, 'dead': 1336, 'never infected': 97, 'recovered': 8560},\n",
       " {'infected': 6, 'dead': 1337, 'never infected': 97, 'recovered': 8560},\n",
       " {'infected': 6, 'dead': 1337, 'never infected': 97, 'recovered': 8560},\n",
       " {'infected': 6, 'dead': 1337, 'never infected': 97, 'recovered': 8560},\n",
       " {'infected': 6, 'dead': 1337, 'never infected': 97, 'recovered': 8560},\n",
       " {'infected': 6, 'dead': 1337, 'never infected': 97, 'recovered': 8560},\n",
       " {'infected': 6, 'dead': 1337, 'never infected': 96, 'recovered': 8561},\n",
       " {'infected': 6, 'dead': 1338, 'never infected': 95, 'recovered': 8561},\n",
       " {'infected': 6, 'dead': 1338, 'never infected': 95, 'recovered': 8561},\n",
       " {'infected': 7, 'dead': 1338, 'never infected': 94, 'recovered': 8561},\n",
       " {'infected': 6, 'dead': 1339, 'never infected': 94, 'recovered': 8561},\n",
       " {'infected': 5, 'dead': 1339, 'never infected': 94, 'recovered': 8562},\n",
       " {'infected': 5, 'dead': 1339, 'never infected': 93, 'recovered': 8563},\n",
       " {'infected': 5, 'dead': 1339, 'never infected': 93, 'recovered': 8563},\n",
       " {'infected': 4, 'dead': 1339, 'never infected': 93, 'recovered': 8564},\n",
       " {'infected': 4, 'dead': 1339, 'never infected': 93, 'recovered': 8564},\n",
       " {'infected': 4, 'dead': 1339, 'never infected': 93, 'recovered': 8564},\n",
       " {'infected': 4, 'dead': 1339, 'never infected': 93, 'recovered': 8564},\n",
       " {'infected': 4, 'dead': 1339, 'never infected': 93, 'recovered': 8564},\n",
       " {'infected': 4, 'dead': 1339, 'never infected': 93, 'recovered': 8564},\n",
       " {'infected': 4, 'dead': 1339, 'never infected': 92, 'recovered': 8565},\n",
       " {'infected': 3, 'dead': 1339, 'never infected': 92, 'recovered': 8566},\n",
       " {'infected': 3, 'dead': 1339, 'never infected': 92, 'recovered': 8566},\n",
       " {'infected': 3, 'dead': 1339, 'never infected': 91, 'recovered': 8567},\n",
       " {'infected': 3, 'dead': 1339, 'never infected': 91, 'recovered': 8567},\n",
       " {'infected': 4, 'dead': 1339, 'never infected': 90, 'recovered': 8567},\n",
       " {'infected': 3, 'dead': 1340, 'never infected': 90, 'recovered': 8567},\n",
       " {'infected': 3, 'dead': 1340, 'never infected': 90, 'recovered': 8567},\n",
       " {'infected': 4, 'dead': 1340, 'never infected': 89, 'recovered': 8567},\n",
       " {'infected': 4, 'dead': 1340, 'never infected': 89, 'recovered': 8567},\n",
       " {'infected': 4, 'dead': 1340, 'never infected': 89, 'recovered': 8567},\n",
       " {'infected': 5, 'dead': 1340, 'never infected': 88, 'recovered': 8567},\n",
       " {'infected': 6, 'dead': 1340, 'never infected': 87, 'recovered': 8567},\n",
       " {'infected': 7, 'dead': 1340, 'never infected': 86, 'recovered': 8567},\n",
       " {'infected': 6, 'dead': 1340, 'never infected': 86, 'recovered': 8568},\n",
       " {'infected': 6, 'dead': 1340, 'never infected': 86, 'recovered': 8568},\n",
       " {'infected': 6, 'dead': 1340, 'never infected': 86, 'recovered': 8568},\n",
       " {'infected': 6, 'dead': 1340, 'never infected': 85, 'recovered': 8569},\n",
       " {'infected': 6, 'dead': 1340, 'never infected': 85, 'recovered': 8569},\n",
       " {'infected': 5, 'dead': 1340, 'never infected': 85, 'recovered': 8570},\n",
       " {'infected': 5, 'dead': 1340, 'never infected': 85, 'recovered': 8570},\n",
       " {'infected': 5, 'dead': 1340, 'never infected': 85, 'recovered': 8570},\n",
       " {'infected': 4, 'dead': 1340, 'never infected': 85, 'recovered': 8571},\n",
       " {'infected': 4, 'dead': 1340, 'never infected': 85, 'recovered': 8571},\n",
       " {'infected': 5, 'dead': 1340, 'never infected': 84, 'recovered': 8571},\n",
       " {'infected': 4, 'dead': 1340, 'never infected': 84, 'recovered': 8572},\n",
       " {'infected': 3, 'dead': 1340, 'never infected': 84, 'recovered': 8573},\n",
       " {'infected': 3, 'dead': 1340, 'never infected': 83, 'recovered': 8574},\n",
       " {'infected': 4, 'dead': 1340, 'never infected': 82, 'recovered': 8574},\n",
       " {'infected': 4, 'dead': 1340, 'never infected': 82, 'recovered': 8574},\n",
       " {'infected': 4, 'dead': 1340, 'never infected': 82, 'recovered': 8574},\n",
       " {'infected': 3, 'dead': 1340, 'never infected': 82, 'recovered': 8575},\n",
       " {'infected': 3, 'dead': 1340, 'never infected': 82, 'recovered': 8575},\n",
       " {'infected': 3, 'dead': 1340, 'never infected': 82, 'recovered': 8575},\n",
       " {'infected': 3, 'dead': 1340, 'never infected': 82, 'recovered': 8575},\n",
       " {'infected': 3, 'dead': 1340, 'never infected': 82, 'recovered': 8575},\n",
       " {'infected': 3, 'dead': 1340, 'never infected': 82, 'recovered': 8575},\n",
       " {'infected': 3, 'dead': 1340, 'never infected': 82, 'recovered': 8575},\n",
       " {'infected': 2, 'dead': 1340, 'never infected': 82, 'recovered': 8576},\n",
       " {'infected': 2, 'dead': 1340, 'never infected': 82, 'recovered': 8576},\n",
       " {'infected': 2, 'dead': 1340, 'never infected': 82, 'recovered': 8576},\n",
       " {'infected': 1, 'dead': 1340, 'never infected': 82, 'recovered': 8577},\n",
       " {'infected': 0, 'dead': 1340, 'never infected': 82, 'recovered': 8578}]"
      ]
     },
     "execution_count": 829,
     "metadata": {},
     "output_type": "execute_result"
    }
   ],
   "source": [
    "def simulate_disease_spread():\n",
    "    city_social_network = init_city()\n",
    "    daily_stats = []\n",
    "    city_social_network.nodes[0]['infected'] = True\n",
    "    city_social_network.nodes[0]['infected_date'] = 0\n",
    "    total_infections = 1\n",
    "    day=0\n",
    "    while total_infections>0:\n",
    "        simulate_single_day(city_social_network,day)\n",
    "        daily_stats.append(get_disease_stats(city_social_network))\n",
    "        if day%10==0:\n",
    "            print('day:'+str(day))\n",
    "            print(daily_stats[-1])\n",
    "        total_infections = daily_stats[-1]['infected']\n",
    "        day+=1\n",
    "    return daily_stats\n",
    "simulate_disease_spread()"
   ]
  },
  {
   "cell_type": "code",
   "execution_count": 842,
   "metadata": {},
   "outputs": [],
   "source": [
    "def plot_infection_progression(daily_stats):\n",
    "    df = pd.DataFrame(daily_stats)\n",
    "    colors = [[0.5,0.5,0.5], [0.6,0,0], [0,0.5,0],[0,0.75,0] ] # grey, red, light green, dark green\n",
    "    ax = df.plot(y = ['dead', 'infected', 'recovered', 'never infected'], color = colors)\n",
    "    ax.set_xlabel('Days')\n",
    "    ax.set_ylabel('Number of people')\n",
    "    plt.show()\n",
    "    \n",
    "    ax = df.plot.area(y = ['dead', 'infected', 'recovered', 'never infected'], color = colors)\n",
    "    ax.set_xlabel('Days')\n",
    "    ax.set_ylabel('Number of people')\n",
    "    plt.show()\n",
    "  \n",
    "\n",
    "    "
   ]
  },
  {
   "cell_type": "code",
   "execution_count": 843,
   "metadata": {},
   "outputs": [
    {
     "data": {
      "image/png": "[encoded data removed]",
      "text/plain": [
       "<Figure size 432x288 with 1 Axes>"
      ]
     },
     "metadata": {
      "needs_background": "light"
     },
     "output_type": "display_data"
    },
    {
     "data": {
      "image/png": "[encoded data removed]",
      "text/plain": [
       "<Figure size 432x288 with 1 Axes>"
      ]
     },
     "metadata": {
      "needs_background": "light"
     },
     "output_type": "display_data"
    }
   ],
   "source": [
    "plot_infection_progression(daily_stats)"
   ]
  },
  {
   "cell_type": "code",
   "execution_count": null,
   "metadata": {},
   "outputs": [],
   "source": []
  },
  {
   "cell_type": "code",
   "execution_count": null,
   "metadata": {},
   "outputs": [],
   "source": []
  }
 ],
 "metadata": {
  "kernelspec": {
   "display_name": ".venv",
   "language": "python",
   "name": ".venv"
  },
  "language_info": {
   "codemirror_mode": {
    "name": "ipython",
    "version": 3
   },
   "file_extension": ".py",
   "mimetype": "text/x-python",
   "name": "python",
   "nbconvert_exporter": "python",
   "pygments_lexer": "ipython3",
   "version": "3.7.6"
  }
 },
 "nbformat": 4,
 "nbformat_minor": 4
}
