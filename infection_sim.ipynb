{
 "cells": [
  {
   "cell_type": "code",
   "execution_count": 317,
   "metadata": {},
   "outputs": [],
   "source": [
    "import networkx as nx\n",
    "import numpy as np\n",
    "import matplotlib.pyplot as plt\n",
    "import pandas as pd\n",
    "import string\n",
    "import random\n",
    "from collections import Counter\n",
    "import sys\n",
    "%matplotlib inline"
   ]
  },
  {
   "cell_type": "code",
   "execution_count": 318,
   "metadata": {},
   "outputs": [],
   "source": [
    "CITY_POPULATION = 10000\n",
    "MEAN_NETWORK_DEGREE = 50\n",
    "MEAN_INTERACTIONS_PER_DAY = 10\n",
    "TRANSMISSION_RATE = 3.0/100\n",
    "ILLNESS_LENGTH_DAYS = 14\n",
    "SYMPTOMATIC_RATE = 0.5\n"
   ]
  },
  {
   "cell_type": "markdown",
   "metadata": {},
   "source": [
    "The city graph is generated using the Watts–Strogatz model (https://en.wikipedia.org/wiki/Watts%E2%80%93Strogatz_model)"
   ]
  },
  {
   "cell_type": "code",
   "execution_count": 319,
   "metadata": {},
   "outputs": [],
   "source": [
    "BETA = 0.5 # a parameter for the model - read wiki page"
   ]
  },
  {
   "cell_type": "code",
   "execution_count": 320,
   "metadata": {},
   "outputs": [],
   "source": [
    "\n",
    "city_social_network = nx.watts_strogatz_graph(CITY_POPULATION, MEAN_NETWORK_DEGREE, BETA)\n"
   ]
  },
  {
   "cell_type": "code",
   "execution_count": 321,
   "metadata": {},
   "outputs": [
    {
     "data": {
      "text/plain": [
       "<BarContainer object of 33 artists>"
      ]
     },
     "execution_count": 321,
     "metadata": {},
     "output_type": "execute_result"
    },
    {
     "data": {
      "image/png": "[encoded data removed]",
      "text/plain": [
       "<Figure size 432x288 with 1 Axes>"
      ]
     },
     "metadata": {
      "needs_background": "light"
     },
     "output_type": "display_data"
    }
   ],
   "source": [
    "degrees = dict(city_social_network.degree()).values()\n",
    "degree_counts = np.unique(list(degrees), return_counts = True)\n",
    "degree_counts\n",
    "plt.bar(degree_counts[0], degree_counts[1]) \n"
   ]
  },
  {
   "cell_type": "markdown",
   "metadata": {},
   "source": [
    "Generating an Age probability distribution function-\n",
    "\n",
    "Based on 2000 Census data (https://www.census.gov/prod/cen2010/briefs/c2010br-03.pdf)"
   ]
  },
  {
   "cell_type": "code",
   "execution_count": null,
   "metadata": {},
   "outputs": [],
   "source": []
  },
  {
   "cell_type": "code",
   "execution_count": 322,
   "metadata": {},
   "outputs": [],
   "source": [
    "age_group_numbers_USA = [19175798,20549505,20528072,20219890,18964001,19381336,20510388,22706664,22441863, 20092404,17585548,13469237, 10805447,9533545,8857441,7415813,4945367,2789818,1112531,286784,50454,]"
   ]
  },
  {
   "cell_type": "markdown",
   "metadata": {},
   "source": [
    "Each age group is of 5 years - under 5yo, 5-10, 10-15 .... 95-100, >100\n",
    "\n",
    "For convenience, we choose a representative age for each group"
   ]
  },
  {
   "cell_type": "code",
   "execution_count": 323,
   "metadata": {},
   "outputs": [
    {
     "data": {
      "text/plain": [
       "<BarContainer object of 21 artists>"
      ]
     },
     "execution_count": 323,
     "metadata": {},
     "output_type": "execute_result"
    },
    {
     "data": {
      "image/png": "[encoded data removed]",
      "text/plain": [
       "<Figure size 432x288 with 1 Axes>"
      ]
     },
     "metadata": {
      "needs_background": "light"
     },
     "output_type": "display_data"
    }
   ],
   "source": [
    "age_group_ratios = np.array(age_group_numbers_USA)/sum(age_group_numbers_USA)\n",
    "ages = [2, 7, 12, 17, 22, 27, 32, 37, 42, 47, 52, 57, 62, 67, 72, 77, 82, 87, 92, 97, 102]\n",
    "plt.bar(ages, age_group_ratios)"
   ]
  },
  {
   "cell_type": "markdown",
   "metadata": {},
   "source": [
    "Assigning an age to each person in our city"
   ]
  },
  {
   "cell_type": "code",
   "execution_count": 324,
   "metadata": {},
   "outputs": [],
   "source": [
    "city_ages = np.random.choice(ages, CITY_POPULATION, p = age_group_ratios)"
   ]
  },
  {
   "cell_type": "code",
   "execution_count": 325,
   "metadata": {},
   "outputs": [
    {
     "data": {
      "text/plain": [
       "<BarContainer object of 21 artists>"
      ]
     },
     "execution_count": 325,
     "metadata": {},
     "output_type": "execute_result"
    },
    {
     "data": {
      "image/png": "[encoded data removed]",
      "text/plain": [
       "<Figure size 432x288 with 1 Axes>"
      ]
     },
     "metadata": {
      "needs_background": "light"
     },
     "output_type": "display_data"
    }
   ],
   "source": [
    "age_dist = np.unique(city_ages, return_counts = True)\n",
    "plt.bar(age_dist[0], age_dist[1])"
   ]
  },
  {
   "cell_type": "code",
   "execution_count": 326,
   "metadata": {},
   "outputs": [],
   "source": [
    "for i in range(CITY_POPULATION):\n",
    "    city_social_network.nodes[i]['age'] = city_ages[i]\n",
    "    city_social_network.nodes[i]['infected'] = False\n",
    "    city_social_network.nodes[i]['alive'] = True\n",
    "    city_social_network.nodes[i]['isolated'] = False\n",
    "    city_social_network.nodes[i]['infected_date'] = sys.maxsize\n",
    "    city_social_network.nodes[i]['recovered'] = False\n",
    "    \n",
    "    "
   ]
  },
  {
   "cell_type": "code",
   "execution_count": 327,
   "metadata": {},
   "outputs": [
    {
     "data": {
      "text/plain": [
       "{'age': 7,\n",
       " 'infected': False,\n",
       " 'alive': True,\n",
       " 'isolated': False,\n",
       " 'infected_date': 9223372036854775807,\n",
       " 'recovered': False}"
      ]
     },
     "execution_count": 327,
     "metadata": {},
     "output_type": "execute_result"
    }
   ],
   "source": [
    "city_social_network.nodes[0]"
   ]
  },
  {
   "cell_type": "code",
   "execution_count": 336,
   "metadata": {},
   "outputs": [],
   "source": [
    "def mortality_pdf(age):\n",
    "    \n",
    "    return ((age-102)/1020 +0.1)"
   ]
  },
  {
   "cell_type": "code",
   "execution_count": 337,
   "metadata": {},
   "outputs": [
    {
     "data": {
      "text/plain": [
       "[<matplotlib.lines.Line2D at 0x1368c6f10>]"
      ]
     },
     "execution_count": 337,
     "metadata": {},
     "output_type": "execute_result"
    },
    {
     "data": {
      "image/png": "[encoded data removed]",
      "text/plain": [
       "<Figure size 432x288 with 1 Axes>"
      ]
     },
     "metadata": {
      "needs_background": "light"
     },
     "output_type": "display_data"
    }
   ],
   "source": [
    "plt.plot(ages,[mortality_pdf(age) for age in ages])"
   ]
  },
  {
   "cell_type": "code",
   "execution_count": 338,
   "metadata": {},
   "outputs": [],
   "source": [
    "def get_disease_stats(city_graph):\n",
    "    total_infected = 0\n",
    "    total_dead = 0\n",
    "    total_healthy = 0\n",
    "    total_recovered = 0\n",
    "    for i in city_graph.nodes():\n",
    "        if not city_social_network.nodes[i]['alive']:\n",
    "            total_dead+=1\n",
    "        #dead people are not infected\n",
    "        elif city_social_network.nodes[i]['infected']:\n",
    "            total_infected +=1\n",
    "        elif city_social_network.nodes[i]['recovered']:\n",
    "            total_recovered +=1\n",
    "        \n",
    "        else:\n",
    "            total_healthy+=1\n",
    "        \n",
    "    return{'infected':total_infected, 'dead': total_dead, 'never infected':total_healthy, 'recovered': total_recovered}\n",
    "        \n",
    "        "
   ]
  },
  {
   "cell_type": "code",
   "execution_count": 339,
   "metadata": {},
   "outputs": [
    {
     "data": {
      "text/plain": [
       "{'infected': 0, 'dead': 0, 'never infected': 10000, 'recovered': 0}"
      ]
     },
     "execution_count": 339,
     "metadata": {},
     "output_type": "execute_result"
    }
   ],
   "source": [
    "get_disease_stats(city_social_network)"
   ]
  },
  {
   "cell_type": "code",
   "execution_count": 340,
   "metadata": {},
   "outputs": [],
   "source": [
    "def get_daily_visits_no_preventative_measures(city_graph):\n",
    "    total_visits_in_day = (len(city_graph.nodes)*MEAN_INTERACTIONS_PER_DAY)/2 # Two people take part in an interaction\n",
    "    day_visits = random.sample(list(city_graph.edges), int(total_visits_in_day))\n",
    "    return day_visits\n",
    "    "
   ]
  },
  {
   "cell_type": "markdown",
   "metadata": {},
   "source": [
    "Distribution of Interactions on Day 0 (by person):"
   ]
  },
  {
   "cell_type": "code",
   "execution_count": 341,
   "metadata": {},
   "outputs": [],
   "source": [
    "day_0_interactions = get_daily_visits(city_social_network)\n",
    "interactions_per_person = Counter()\n",
    "for interaction in day_0_interactions:\n",
    "    interactions_per_person[interaction[0]]+=1\n",
    "    interactions_per_person[interaction[1]]++1\n",
    "    "
   ]
  },
  {
   "cell_type": "code",
   "execution_count": 342,
   "metadata": {},
   "outputs": [
    {
     "data": {
      "text/plain": [
       "<BarContainer object of 17 artists>"
      ]
     },
     "execution_count": 342,
     "metadata": {},
     "output_type": "execute_result"
    },
    {
     "data": {
      "image/png": "[encoded data removed]",
      "text/plain": [
       "<Figure size 432x288 with 1 Axes>"
      ]
     },
     "metadata": {
      "needs_background": "light"
     },
     "output_type": "display_data"
    }
   ],
   "source": [
    "hist = np.unique(list(interactions_per_person.values()), return_counts = True)\n",
    "plt.bar(hist[0],hist[1])"
   ]
  },
  {
   "cell_type": "code",
   "execution_count": 343,
   "metadata": {},
   "outputs": [],
   "source": [
    "def simulate_single_day(city_graph, day_number):\n",
    "    interactions = get_daily_visits_no_preventative_measures(city_graph)\n",
    "    for p1,p2 in interactions:\n",
    "        if not city_graph.nodes[p1]['alive'] or not city_graph.nodes[p1]['alive']:\n",
    "            continue\n",
    "        if city_graph.nodes[p1]['infected'] and city_graph.nodes[p2]['infected']:\n",
    "            continue\n",
    "        if city_graph.nodes[p1]['recovered'] or city_graph.nodes[p2]['recovered']:\n",
    "            continue\n",
    "        if not city_graph.nodes[p1]['infected'] and not city_graph.nodes[p2]['infected']:\n",
    "            continue\n",
    "        # one of the people is infected.\n",
    "        if random.uniform(0, 1) < TRANSMISSION_RATE:\n",
    "            #infect!\n",
    "            if not city_graph.nodes[p1]['infected']:\n",
    "                if city_graph.nodes[p2]['infected_date'] == day_number:\n",
    "                    continue\n",
    "                city_graph.nodes[p1]['infected'] = True\n",
    "                city_graph.nodes[p1]['infected_date'] = day_number\n",
    "            else:\n",
    "                if city_graph.nodes[p1]['infected_date'] == day_number:\n",
    "                    continue\n",
    "                city_graph.nodes[p2]['infected'] = True\n",
    "                city_graph.nodes[p2]['infected_date'] = day_number\n",
    "    for p in city_graph.nodes():\n",
    "        if day_number - city_graph.nodes[p]['infected_date'] == ILLNESS_LENGTH_DAYS:\n",
    "            if random.uniform(0, 1) < mortality_pdf(city_graph.nodes[p]['age']) :\n",
    "                city_graph.nodes[p]['alive'] = False\n",
    "            else:\n",
    "                city_graph.nodes[p]['recovered'] = True\n",
    "                city_graph.nodes[p]['infected'] = False\n",
    "    \n",
    "                \n",
    "        \n",
    "                \n",
    "            \n",
    "            \n",
    "            \n",
    "\n",
    "        \n",
    "    "
   ]
  },
  {
   "cell_type": "code",
   "execution_count": 344,
   "metadata": {},
   "outputs": [
    {
     "name": "stdout",
     "output_type": "stream",
     "text": [
      "day:0\n",
      "{'infected': 1, 'dead': 0, 'never infected': 9999, 'recovered': 0}\n",
      "day:1\n",
      "{'infected': 1, 'dead': 0, 'never infected': 9999, 'recovered': 0}\n",
      "day:2\n",
      "{'infected': 1, 'dead': 0, 'never infected': 9999, 'recovered': 0}\n",
      "day:3\n",
      "{'infected': 1, 'dead': 0, 'never infected': 9999, 'recovered': 0}\n",
      "day:4\n",
      "{'infected': 1, 'dead': 0, 'never infected': 9999, 'recovered': 0}\n",
      "day:5\n",
      "{'infected': 4, 'dead': 0, 'never infected': 9996, 'recovered': 0}\n",
      "day:6\n",
      "{'infected': 5, 'dead': 0, 'never infected': 9995, 'recovered': 0}\n",
      "day:7\n",
      "{'infected': 5, 'dead': 0, 'never infected': 9995, 'recovered': 0}\n",
      "day:8\n",
      "{'infected': 9, 'dead': 0, 'never infected': 9991, 'recovered': 0}\n",
      "day:9\n",
      "{'infected': 11, 'dead': 0, 'never infected': 9989, 'recovered': 0}\n",
      "day:10\n",
      "{'infected': 12, 'dead': 0, 'never infected': 9988, 'recovered': 0}\n",
      "day:11\n",
      "{'infected': 18, 'dead': 0, 'never infected': 9982, 'recovered': 0}\n",
      "day:12\n",
      "{'infected': 23, 'dead': 0, 'never infected': 9977, 'recovered': 0}\n",
      "day:13\n",
      "{'infected': 29, 'dead': 0, 'never infected': 9971, 'recovered': 0}\n",
      "day:14\n",
      "{'infected': 36, 'dead': 0, 'never infected': 9963, 'recovered': 1}\n",
      "day:15\n",
      "{'infected': 53, 'dead': 0, 'never infected': 9946, 'recovered': 1}\n",
      "day:16\n",
      "{'infected': 62, 'dead': 0, 'never infected': 9937, 'recovered': 1}\n",
      "day:17\n",
      "{'infected': 79, 'dead': 0, 'never infected': 9920, 'recovered': 1}\n",
      "day:18\n",
      "{'infected': 96, 'dead': 0, 'never infected': 9903, 'recovered': 1}\n",
      "day:19\n",
      "{'infected': 110, 'dead': 0, 'never infected': 9886, 'recovered': 4}\n",
      "day:20\n",
      "{'infected': 130, 'dead': 0, 'never infected': 9865, 'recovered': 5}\n",
      "day:21\n",
      "{'infected': 161, 'dead': 0, 'never infected': 9834, 'recovered': 5}\n",
      "day:22\n",
      "{'infected': 201, 'dead': 0, 'never infected': 9790, 'recovered': 9}\n",
      "day:23\n",
      "{'infected': 264, 'dead': 0, 'never infected': 9725, 'recovered': 11}\n",
      "day:24\n",
      "{'infected': 343, 'dead': 0, 'never infected': 9645, 'recovered': 12}\n",
      "day:25\n",
      "{'infected': 427, 'dead': 0, 'never infected': 9555, 'recovered': 18}\n",
      "day:26\n",
      "{'infected': 554, 'dead': 0, 'never infected': 9423, 'recovered': 23}\n",
      "day:27\n",
      "{'infected': 676, 'dead': 1, 'never infected': 9295, 'recovered': 28}\n",
      "day:28\n",
      "{'infected': 852, 'dead': 1, 'never infected': 9111, 'recovered': 36}\n",
      "day:29\n",
      "{'infected': 1068, 'dead': 3, 'never infected': 8878, 'recovered': 51}\n",
      "day:30\n",
      "{'infected': 1349, 'dead': 3, 'never infected': 8588, 'recovered': 60}\n",
      "day:31\n",
      "{'infected': 1632, 'dead': 6, 'never infected': 8288, 'recovered': 74}\n",
      "day:32\n",
      "{'infected': 1996, 'dead': 7, 'never infected': 7907, 'recovered': 90}\n",
      "day:33\n",
      "{'infected': 2424, 'dead': 7, 'never infected': 7462, 'recovered': 107}\n",
      "day:34\n",
      "{'infected': 2894, 'dead': 7, 'never infected': 6971, 'recovered': 128}\n",
      "day:35\n",
      "{'infected': 3481, 'dead': 10, 'never infected': 6353, 'recovered': 156}\n",
      "day:36\n",
      "{'infected': 4058, 'dead': 12, 'never infected': 5732, 'recovered': 198}\n",
      "day:37\n",
      "{'infected': 4667, 'dead': 14, 'never infected': 5058, 'recovered': 261}\n",
      "day:38\n",
      "{'infected': 5240, 'dead': 14, 'never infected': 4405, 'recovered': 341}\n",
      "day:39\n",
      "{'infected': 5796, 'dead': 17, 'never infected': 3759, 'recovered': 428}\n",
      "day:40\n",
      "{'infected': 6263, 'dead': 21, 'never infected': 3160, 'recovered': 556}\n",
      "day:41\n",
      "{'infected': 6678, 'dead': 22, 'never infected': 2617, 'recovered': 683}\n",
      "day:42\n",
      "{'infected': 6981, 'dead': 28, 'never infected': 2130, 'recovered': 861}\n",
      "day:43\n",
      "{'infected': 7140, 'dead': 34, 'never infected': 1738, 'recovered': 1088}\n",
      "day:44\n",
      "{'infected': 7198, 'dead': 49, 'never infected': 1390, 'recovered': 1363}\n",
      "day:45\n",
      "{'infected': 7161, 'dead': 60, 'never infected': 1127, 'recovered': 1652}\n",
      "day:46\n",
      "{'infected': 6952, 'dead': 73, 'never infected': 955, 'recovered': 2020}\n",
      "day:47\n",
      "{'infected': 6688, 'dead': 87, 'never infected': 774, 'recovered': 2451}\n",
      "day:48\n",
      "{'infected': 6336, 'dead': 111, 'never infected': 635, 'recovered': 2918}\n",
      "day:49\n",
      "{'infected': 5830, 'dead': 136, 'never infected': 523, 'recovered': 3511}\n",
      "day:50\n",
      "{'infected': 5289, 'dead': 159, 'never infected': 443, 'recovered': 4109}\n",
      "day:51\n",
      "{'infected': 4682, 'dead': 184, 'never infected': 376, 'recovered': 4758}\n",
      "day:52\n",
      "{'infected': 4077, 'dead': 202, 'never infected': 328, 'recovered': 5393}\n",
      "day:53\n",
      "{'infected': 3474, 'dead': 224, 'never infected': 285, 'recovered': 6017}\n",
      "day:54\n",
      "{'infected': 2911, 'dead': 240, 'never infected': 249, 'recovered': 6600}\n",
      "day:55\n",
      "{'infected': 2391, 'dead': 253, 'never infected': 226, 'recovered': 7130}\n",
      "day:56\n",
      "{'infected': 1919, 'dead': 264, 'never infected': 211, 'recovered': 7606}\n",
      "day:57\n",
      "{'infected': 1540, 'dead': 277, 'never infected': 198, 'recovered': 7985}\n",
      "day:58\n",
      "{'infected': 1206, 'dead': 295, 'never infected': 184, 'recovered': 8315}\n",
      "day:59\n",
      "{'infected': 950, 'dead': 300, 'never infected': 177, 'recovered': 8573}\n",
      "day:60\n",
      "{'infected': 781, 'dead': 308, 'never infected': 174, 'recovered': 8737}\n",
      "day:61\n",
      "{'infected': 606, 'dead': 320, 'never infected': 168, 'recovered': 8906}\n",
      "day:62\n",
      "{'infected': 471, 'dead': 323, 'never infected': 164, 'recovered': 9042}\n",
      "day:63\n",
      "{'infected': 359, 'dead': 326, 'never infected': 164, 'recovered': 9151}\n",
      "day:64\n",
      "{'infected': 283, 'dead': 326, 'never infected': 160, 'recovered': 9231}\n",
      "day:65\n",
      "{'infected': 220, 'dead': 326, 'never infected': 156, 'recovered': 9298}\n",
      "day:66\n",
      "{'infected': 173, 'dead': 326, 'never infected': 155, 'recovered': 9346}\n",
      "day:67\n",
      "{'infected': 131, 'dead': 327, 'never infected': 154, 'recovered': 9388}\n",
      "day:68\n",
      "{'infected': 97, 'dead': 327, 'never infected': 152, 'recovered': 9424}\n",
      "day:69\n",
      "{'infected': 74, 'dead': 329, 'never infected': 152, 'recovered': 9445}\n",
      "day:70\n",
      "{'infected': 60, 'dead': 330, 'never infected': 151, 'recovered': 9459}\n",
      "day:71\n",
      "{'infected': 50, 'dead': 330, 'never infected': 148, 'recovered': 9472}\n",
      "day:72\n",
      "{'infected': 37, 'dead': 330, 'never infected': 147, 'recovered': 9486}\n",
      "day:73\n",
      "{'infected': 31, 'dead': 330, 'never infected': 146, 'recovered': 9493}\n",
      "day:74\n",
      "{'infected': 28, 'dead': 331, 'never infected': 146, 'recovered': 9495}\n",
      "day:75\n",
      "{'infected': 22, 'dead': 331, 'never infected': 146, 'recovered': 9501}\n",
      "day:76\n",
      "{'infected': 20, 'dead': 332, 'never infected': 144, 'recovered': 9504}\n",
      "day:77\n",
      "{'infected': 21, 'dead': 332, 'never infected': 143, 'recovered': 9504}\n",
      "day:78\n",
      "{'infected': 17, 'dead': 332, 'never infected': 143, 'recovered': 9508}\n",
      "day:79\n",
      "{'infected': 13, 'dead': 333, 'never infected': 143, 'recovered': 9511}\n",
      "day:80\n",
      "{'infected': 12, 'dead': 333, 'never infected': 143, 'recovered': 9512}\n",
      "day:81\n",
      "{'infected': 11, 'dead': 333, 'never infected': 143, 'recovered': 9513}\n",
      "day:82\n",
      "{'infected': 9, 'dead': 333, 'never infected': 143, 'recovered': 9515}\n",
      "day:83\n",
      "{'infected': 10, 'dead': 333, 'never infected': 142, 'recovered': 9515}\n",
      "day:84\n",
      "{'infected': 10, 'dead': 333, 'never infected': 141, 'recovered': 9516}\n",
      "day:85\n",
      "{'infected': 8, 'dead': 333, 'never infected': 140, 'recovered': 9519}\n",
      "day:86\n",
      "{'infected': 8, 'dead': 333, 'never infected': 139, 'recovered': 9520}\n",
      "day:87\n",
      "{'infected': 7, 'dead': 333, 'never infected': 139, 'recovered': 9521}\n",
      "day:88\n",
      "{'infected': 8, 'dead': 333, 'never infected': 138, 'recovered': 9521}\n",
      "day:89\n",
      "{'infected': 9, 'dead': 333, 'never infected': 137, 'recovered': 9521}\n",
      "day:90\n",
      "{'infected': 9, 'dead': 333, 'never infected': 135, 'recovered': 9523}\n",
      "day:91\n",
      "{'infected': 8, 'dead': 333, 'never infected': 135, 'recovered': 9524}\n",
      "day:92\n",
      "{'infected': 8, 'dead': 333, 'never infected': 135, 'recovered': 9524}\n",
      "day:93\n",
      "{'infected': 8, 'dead': 333, 'never infected': 135, 'recovered': 9524}\n",
      "day:94\n",
      "{'infected': 8, 'dead': 333, 'never infected': 135, 'recovered': 9524}\n",
      "day:95\n",
      "{'infected': 8, 'dead': 333, 'never infected': 135, 'recovered': 9524}\n",
      "day:96\n",
      "{'infected': 9, 'dead': 333, 'never infected': 134, 'recovered': 9524}\n",
      "day:97\n",
      "{'infected': 8, 'dead': 333, 'never infected': 134, 'recovered': 9525}\n",
      "day:98\n",
      "{'infected': 7, 'dead': 333, 'never infected': 134, 'recovered': 9526}\n",
      "day:99\n",
      "{'infected': 6, 'dead': 334, 'never infected': 134, 'recovered': 9526}\n",
      "day:100\n",
      "{'infected': 5, 'dead': 334, 'never infected': 134, 'recovered': 9527}\n",
      "day:101\n",
      "{'infected': 6, 'dead': 334, 'never infected': 133, 'recovered': 9527}\n",
      "day:102\n",
      "{'infected': 5, 'dead': 334, 'never infected': 133, 'recovered': 9528}\n",
      "day:103\n",
      "{'infected': 4, 'dead': 334, 'never infected': 133, 'recovered': 9529}\n",
      "day:104\n",
      "{'infected': 2, 'dead': 334, 'never infected': 133, 'recovered': 9531}\n",
      "day:105\n"
     ]
    },
    {
     "name": "stdout",
     "output_type": "stream",
     "text": [
      "{'infected': 3, 'dead': 334, 'never infected': 132, 'recovered': 9531}\n",
      "day:106\n",
      "{'infected': 3, 'dead': 334, 'never infected': 132, 'recovered': 9531}\n",
      "day:107\n",
      "{'infected': 4, 'dead': 334, 'never infected': 131, 'recovered': 9531}\n",
      "day:108\n",
      "{'infected': 4, 'dead': 334, 'never infected': 131, 'recovered': 9531}\n",
      "day:109\n",
      "{'infected': 5, 'dead': 334, 'never infected': 130, 'recovered': 9531}\n",
      "day:110\n",
      "{'infected': 4, 'dead': 334, 'never infected': 130, 'recovered': 9532}\n",
      "day:111\n",
      "{'infected': 6, 'dead': 334, 'never infected': 128, 'recovered': 9532}\n",
      "day:112\n",
      "{'infected': 6, 'dead': 334, 'never infected': 128, 'recovered': 9532}\n",
      "day:113\n",
      "{'infected': 6, 'dead': 334, 'never infected': 128, 'recovered': 9532}\n",
      "day:114\n",
      "{'infected': 8, 'dead': 334, 'never infected': 126, 'recovered': 9532}\n",
      "day:115\n",
      "{'infected': 7, 'dead': 334, 'never infected': 126, 'recovered': 9533}\n",
      "day:116\n",
      "{'infected': 7, 'dead': 334, 'never infected': 126, 'recovered': 9533}\n",
      "day:117\n",
      "{'infected': 7, 'dead': 334, 'never infected': 126, 'recovered': 9533}\n",
      "day:118\n",
      "{'infected': 7, 'dead': 334, 'never infected': 126, 'recovered': 9533}\n",
      "day:119\n",
      "{'infected': 8, 'dead': 334, 'never infected': 124, 'recovered': 9534}\n",
      "day:120\n",
      "{'infected': 8, 'dead': 334, 'never infected': 124, 'recovered': 9534}\n",
      "day:121\n",
      "{'infected': 7, 'dead': 334, 'never infected': 124, 'recovered': 9535}\n",
      "day:122\n",
      "{'infected': 7, 'dead': 334, 'never infected': 124, 'recovered': 9535}\n",
      "day:123\n",
      "{'infected': 7, 'dead': 334, 'never infected': 123, 'recovered': 9536}\n",
      "day:124\n",
      "{'infected': 9, 'dead': 334, 'never infected': 121, 'recovered': 9536}\n",
      "day:125\n",
      "{'infected': 7, 'dead': 335, 'never infected': 121, 'recovered': 9537}\n",
      "day:126\n",
      "{'infected': 8, 'dead': 335, 'never infected': 120, 'recovered': 9537}\n",
      "day:127\n",
      "{'infected': 9, 'dead': 335, 'never infected': 119, 'recovered': 9537}\n",
      "day:128\n",
      "{'infected': 8, 'dead': 335, 'never infected': 118, 'recovered': 9539}\n",
      "day:129\n",
      "{'infected': 8, 'dead': 335, 'never infected': 118, 'recovered': 9539}\n",
      "day:130\n",
      "{'infected': 9, 'dead': 335, 'never infected': 117, 'recovered': 9539}\n",
      "day:131\n",
      "{'infected': 9, 'dead': 335, 'never infected': 117, 'recovered': 9539}\n",
      "day:132\n",
      "{'infected': 9, 'dead': 335, 'never infected': 117, 'recovered': 9539}\n",
      "day:133\n",
      "{'infected': 8, 'dead': 335, 'never infected': 116, 'recovered': 9541}\n",
      "day:134\n",
      "{'infected': 8, 'dead': 335, 'never infected': 116, 'recovered': 9541}\n",
      "day:135\n",
      "{'infected': 8, 'dead': 335, 'never infected': 116, 'recovered': 9541}\n",
      "day:136\n",
      "{'infected': 9, 'dead': 335, 'never infected': 115, 'recovered': 9541}\n",
      "day:137\n",
      "{'infected': 8, 'dead': 335, 'never infected': 115, 'recovered': 9542}\n",
      "day:138\n",
      "{'infected': 6, 'dead': 335, 'never infected': 115, 'recovered': 9544}\n",
      "day:139\n",
      "{'infected': 6, 'dead': 335, 'never infected': 115, 'recovered': 9544}\n",
      "day:140\n",
      "{'infected': 5, 'dead': 335, 'never infected': 115, 'recovered': 9545}\n",
      "day:141\n",
      "{'infected': 4, 'dead': 335, 'never infected': 115, 'recovered': 9546}\n",
      "day:142\n",
      "{'infected': 3, 'dead': 335, 'never infected': 115, 'recovered': 9547}\n",
      "day:143\n",
      "{'infected': 3, 'dead': 335, 'never infected': 115, 'recovered': 9547}\n",
      "day:144\n",
      "{'infected': 4, 'dead': 335, 'never infected': 113, 'recovered': 9548}\n",
      "day:145\n",
      "{'infected': 4, 'dead': 335, 'never infected': 113, 'recovered': 9548}\n",
      "day:146\n",
      "{'infected': 5, 'dead': 335, 'never infected': 112, 'recovered': 9548}\n",
      "day:147\n",
      "{'infected': 4, 'dead': 335, 'never infected': 112, 'recovered': 9549}\n",
      "day:148\n",
      "{'infected': 5, 'dead': 335, 'never infected': 111, 'recovered': 9549}\n",
      "day:149\n",
      "{'infected': 5, 'dead': 335, 'never infected': 111, 'recovered': 9549}\n",
      "day:150\n",
      "{'infected': 5, 'dead': 335, 'never infected': 110, 'recovered': 9550}\n",
      "day:151\n",
      "{'infected': 5, 'dead': 335, 'never infected': 110, 'recovered': 9550}\n",
      "day:152\n",
      "{'infected': 5, 'dead': 335, 'never infected': 110, 'recovered': 9550}\n",
      "day:153\n",
      "{'infected': 5, 'dead': 335, 'never infected': 110, 'recovered': 9550}\n",
      "day:154\n",
      "{'infected': 5, 'dead': 335, 'never infected': 110, 'recovered': 9550}\n",
      "day:155\n",
      "{'infected': 5, 'dead': 335, 'never infected': 110, 'recovered': 9550}\n",
      "day:156\n",
      "{'infected': 6, 'dead': 335, 'never infected': 109, 'recovered': 9550}\n",
      "day:157\n",
      "{'infected': 7, 'dead': 335, 'never infected': 108, 'recovered': 9550}\n",
      "day:158\n",
      "{'infected': 5, 'dead': 335, 'never infected': 108, 'recovered': 9552}\n",
      "day:159\n",
      "{'infected': 6, 'dead': 335, 'never infected': 107, 'recovered': 9552}\n",
      "day:160\n",
      "{'infected': 5, 'dead': 335, 'never infected': 107, 'recovered': 9553}\n",
      "day:161\n",
      "{'infected': 5, 'dead': 335, 'never infected': 107, 'recovered': 9553}\n",
      "day:162\n",
      "{'infected': 4, 'dead': 335, 'never infected': 107, 'recovered': 9554}\n",
      "day:163\n",
      "{'infected': 4, 'dead': 335, 'never infected': 107, 'recovered': 9554}\n",
      "day:164\n",
      "{'infected': 3, 'dead': 335, 'never infected': 107, 'recovered': 9555}\n",
      "day:165\n",
      "{'infected': 4, 'dead': 335, 'never infected': 106, 'recovered': 9555}\n",
      "day:166\n",
      "{'infected': 5, 'dead': 335, 'never infected': 105, 'recovered': 9555}\n",
      "day:167\n",
      "{'infected': 5, 'dead': 335, 'never infected': 105, 'recovered': 9555}\n",
      "day:168\n",
      "{'infected': 5, 'dead': 335, 'never infected': 105, 'recovered': 9555}\n",
      "day:169\n",
      "{'infected': 5, 'dead': 335, 'never infected': 105, 'recovered': 9555}\n",
      "day:170\n",
      "{'infected': 4, 'dead': 335, 'never infected': 105, 'recovered': 9556}\n",
      "day:171\n",
      "{'infected': 4, 'dead': 335, 'never infected': 104, 'recovered': 9557}\n",
      "day:172\n",
      "{'infected': 5, 'dead': 335, 'never infected': 103, 'recovered': 9557}\n",
      "day:173\n",
      "{'infected': 4, 'dead': 335, 'never infected': 103, 'recovered': 9558}\n",
      "day:174\n",
      "{'infected': 5, 'dead': 335, 'never infected': 102, 'recovered': 9558}\n",
      "day:175\n",
      "{'infected': 5, 'dead': 335, 'never infected': 102, 'recovered': 9558}\n",
      "day:176\n",
      "{'infected': 6, 'dead': 335, 'never infected': 101, 'recovered': 9558}\n",
      "day:177\n",
      "{'infected': 6, 'dead': 335, 'never infected': 101, 'recovered': 9558}\n",
      "day:178\n",
      "{'infected': 6, 'dead': 335, 'never infected': 101, 'recovered': 9558}\n",
      "day:179\n",
      "{'infected': 5, 'dead': 335, 'never infected': 101, 'recovered': 9559}\n",
      "day:180\n",
      "{'infected': 6, 'dead': 335, 'never infected': 99, 'recovered': 9560}\n",
      "day:181\n",
      "{'infected': 6, 'dead': 335, 'never infected': 99, 'recovered': 9560}\n",
      "day:182\n",
      "{'infected': 6, 'dead': 335, 'never infected': 99, 'recovered': 9560}\n",
      "day:183\n",
      "{'infected': 7, 'dead': 335, 'never infected': 98, 'recovered': 9560}\n",
      "day:184\n",
      "{'infected': 7, 'dead': 335, 'never infected': 98, 'recovered': 9560}\n",
      "day:185\n",
      "{'infected': 6, 'dead': 335, 'never infected': 98, 'recovered': 9561}\n",
      "day:186\n",
      "{'infected': 5, 'dead': 335, 'never infected': 98, 'recovered': 9562}\n",
      "day:187\n",
      "{'infected': 6, 'dead': 335, 'never infected': 97, 'recovered': 9562}\n",
      "day:188\n",
      "{'infected': 5, 'dead': 335, 'never infected': 97, 'recovered': 9563}\n",
      "day:189\n",
      "{'infected': 6, 'dead': 335, 'never infected': 96, 'recovered': 9563}\n",
      "day:190\n",
      "{'infected': 5, 'dead': 335, 'never infected': 96, 'recovered': 9564}\n",
      "day:191\n",
      "{'infected': 5, 'dead': 335, 'never infected': 96, 'recovered': 9564}\n",
      "day:192\n",
      "{'infected': 5, 'dead': 335, 'never infected': 96, 'recovered': 9564}\n",
      "day:193\n",
      "{'infected': 5, 'dead': 335, 'never infected': 96, 'recovered': 9564}\n",
      "day:194\n",
      "{'infected': 3, 'dead': 335, 'never infected': 96, 'recovered': 9566}\n",
      "day:195\n",
      "{'infected': 3, 'dead': 335, 'never infected': 96, 'recovered': 9566}\n",
      "day:196\n",
      "{'infected': 4, 'dead': 335, 'never infected': 95, 'recovered': 9566}\n",
      "day:197\n",
      "{'infected': 3, 'dead': 335, 'never infected': 95, 'recovered': 9567}\n",
      "day:198\n",
      "{'infected': 3, 'dead': 335, 'never infected': 95, 'recovered': 9567}\n",
      "day:199\n",
      "{'infected': 4, 'dead': 335, 'never infected': 94, 'recovered': 9567}\n",
      "day:200\n",
      "{'infected': 4, 'dead': 335, 'never infected': 94, 'recovered': 9567}\n",
      "day:201\n",
      "{'infected': 3, 'dead': 335, 'never infected': 94, 'recovered': 9568}\n",
      "day:202\n",
      "{'infected': 3, 'dead': 335, 'never infected': 94, 'recovered': 9568}\n",
      "day:203\n",
      "{'infected': 3, 'dead': 336, 'never infected': 93, 'recovered': 9568}\n",
      "day:204\n",
      "{'infected': 3, 'dead': 336, 'never infected': 93, 'recovered': 9568}\n",
      "day:205\n",
      "{'infected': 3, 'dead': 336, 'never infected': 93, 'recovered': 9568}\n",
      "day:206\n",
      "{'infected': 3, 'dead': 336, 'never infected': 93, 'recovered': 9568}\n",
      "day:207\n",
      "{'infected': 3, 'dead': 336, 'never infected': 93, 'recovered': 9568}\n",
      "day:208\n",
      "{'infected': 3, 'dead': 336, 'never infected': 93, 'recovered': 9568}\n",
      "day:209\n",
      "{'infected': 3, 'dead': 336, 'never infected': 93, 'recovered': 9568}\n",
      "day:210\n"
     ]
    },
    {
     "name": "stdout",
     "output_type": "stream",
     "text": [
      "{'infected': 2, 'dead': 336, 'never infected': 93, 'recovered': 9569}\n",
      "day:211\n",
      "{'infected': 2, 'dead': 336, 'never infected': 93, 'recovered': 9569}\n",
      "day:212\n",
      "{'infected': 2, 'dead': 336, 'never infected': 93, 'recovered': 9569}\n",
      "day:213\n",
      "{'infected': 1, 'dead': 336, 'never infected': 93, 'recovered': 9570}\n",
      "day:214\n",
      "{'infected': 2, 'dead': 336, 'never infected': 92, 'recovered': 9570}\n",
      "day:215\n",
      "{'infected': 3, 'dead': 336, 'never infected': 91, 'recovered': 9570}\n",
      "day:216\n",
      "{'infected': 3, 'dead': 336, 'never infected': 91, 'recovered': 9570}\n",
      "day:217\n",
      "{'infected': 3, 'dead': 336, 'never infected': 90, 'recovered': 9571}\n",
      "day:218\n",
      "{'infected': 4, 'dead': 336, 'never infected': 89, 'recovered': 9571}\n",
      "day:219\n",
      "{'infected': 4, 'dead': 336, 'never infected': 89, 'recovered': 9571}\n",
      "day:220\n",
      "{'infected': 4, 'dead': 336, 'never infected': 89, 'recovered': 9571}\n",
      "day:221\n",
      "{'infected': 5, 'dead': 336, 'never infected': 88, 'recovered': 9571}\n",
      "day:222\n",
      "{'infected': 5, 'dead': 336, 'never infected': 88, 'recovered': 9571}\n",
      "day:223\n",
      "{'infected': 5, 'dead': 336, 'never infected': 88, 'recovered': 9571}\n",
      "day:224\n",
      "{'infected': 5, 'dead': 336, 'never infected': 88, 'recovered': 9571}\n",
      "day:225\n",
      "{'infected': 5, 'dead': 336, 'never infected': 88, 'recovered': 9571}\n",
      "day:226\n",
      "{'infected': 5, 'dead': 336, 'never infected': 88, 'recovered': 9571}\n",
      "day:227\n",
      "{'infected': 6, 'dead': 336, 'never infected': 87, 'recovered': 9571}\n",
      "day:228\n",
      "{'infected': 5, 'dead': 336, 'never infected': 87, 'recovered': 9572}\n",
      "day:229\n",
      "{'infected': 4, 'dead': 336, 'never infected': 87, 'recovered': 9573}\n",
      "day:230\n",
      "{'infected': 4, 'dead': 336, 'never infected': 87, 'recovered': 9573}\n",
      "day:231\n",
      "{'infected': 3, 'dead': 336, 'never infected': 87, 'recovered': 9574}\n",
      "day:232\n",
      "{'infected': 2, 'dead': 336, 'never infected': 87, 'recovered': 9575}\n",
      "day:233\n",
      "{'infected': 2, 'dead': 336, 'never infected': 87, 'recovered': 9575}\n",
      "day:234\n",
      "{'infected': 3, 'dead': 336, 'never infected': 86, 'recovered': 9575}\n",
      "day:235\n",
      "{'infected': 2, 'dead': 336, 'never infected': 86, 'recovered': 9576}\n",
      "day:236\n",
      "{'infected': 2, 'dead': 336, 'never infected': 86, 'recovered': 9576}\n",
      "day:237\n",
      "{'infected': 2, 'dead': 336, 'never infected': 86, 'recovered': 9576}\n",
      "day:238\n",
      "{'infected': 2, 'dead': 336, 'never infected': 86, 'recovered': 9576}\n",
      "day:239\n",
      "{'infected': 2, 'dead': 336, 'never infected': 86, 'recovered': 9576}\n",
      "day:240\n",
      "{'infected': 2, 'dead': 336, 'never infected': 86, 'recovered': 9576}\n",
      "day:241\n",
      "{'infected': 1, 'dead': 336, 'never infected': 86, 'recovered': 9577}\n",
      "day:242\n",
      "{'infected': 1, 'dead': 336, 'never infected': 86, 'recovered': 9577}\n",
      "day:243\n",
      "{'infected': 1, 'dead': 336, 'never infected': 86, 'recovered': 9577}\n",
      "day:244\n",
      "{'infected': 1, 'dead': 336, 'never infected': 86, 'recovered': 9577}\n",
      "day:245\n",
      "{'infected': 1, 'dead': 336, 'never infected': 86, 'recovered': 9577}\n",
      "day:246\n",
      "{'infected': 1, 'dead': 336, 'never infected': 86, 'recovered': 9577}\n",
      "day:247\n",
      "{'infected': 1, 'dead': 336, 'never infected': 86, 'recovered': 9577}\n",
      "day:248\n",
      "{'infected': 1, 'dead': 336, 'never infected': 85, 'recovered': 9578}\n",
      "day:249\n",
      "{'infected': 1, 'dead': 336, 'never infected': 85, 'recovered': 9578}\n",
      "day:250\n",
      "{'infected': 1, 'dead': 336, 'never infected': 85, 'recovered': 9578}\n",
      "day:251\n",
      "{'infected': 1, 'dead': 336, 'never infected': 85, 'recovered': 9578}\n",
      "day:252\n",
      "{'infected': 1, 'dead': 336, 'never infected': 85, 'recovered': 9578}\n",
      "day:253\n",
      "{'infected': 2, 'dead': 336, 'never infected': 84, 'recovered': 9578}\n",
      "day:254\n",
      "{'infected': 2, 'dead': 336, 'never infected': 84, 'recovered': 9578}\n",
      "day:255\n",
      "{'infected': 2, 'dead': 336, 'never infected': 84, 'recovered': 9578}\n",
      "day:256\n",
      "{'infected': 2, 'dead': 336, 'never infected': 84, 'recovered': 9578}\n",
      "day:257\n",
      "{'infected': 2, 'dead': 336, 'never infected': 84, 'recovered': 9578}\n",
      "day:258\n",
      "{'infected': 3, 'dead': 336, 'never infected': 83, 'recovered': 9578}\n",
      "day:259\n",
      "{'infected': 3, 'dead': 336, 'never infected': 83, 'recovered': 9578}\n",
      "day:260\n",
      "{'infected': 3, 'dead': 336, 'never infected': 83, 'recovered': 9578}\n",
      "day:261\n",
      "{'infected': 3, 'dead': 336, 'never infected': 83, 'recovered': 9578}\n",
      "day:262\n",
      "{'infected': 2, 'dead': 336, 'never infected': 83, 'recovered': 9579}\n",
      "day:263\n",
      "{'infected': 2, 'dead': 336, 'never infected': 83, 'recovered': 9579}\n",
      "day:264\n",
      "{'infected': 2, 'dead': 336, 'never infected': 83, 'recovered': 9579}\n",
      "day:265\n",
      "{'infected': 2, 'dead': 336, 'never infected': 83, 'recovered': 9579}\n",
      "day:266\n",
      "{'infected': 2, 'dead': 336, 'never infected': 83, 'recovered': 9579}\n",
      "day:267\n",
      "{'infected': 1, 'dead': 336, 'never infected': 83, 'recovered': 9580}\n",
      "day:268\n",
      "{'infected': 1, 'dead': 336, 'never infected': 83, 'recovered': 9580}\n",
      "day:269\n",
      "{'infected': 1, 'dead': 336, 'never infected': 83, 'recovered': 9580}\n",
      "day:270\n",
      "{'infected': 1, 'dead': 336, 'never infected': 83, 'recovered': 9580}\n",
      "day:271\n",
      "{'infected': 1, 'dead': 336, 'never infected': 83, 'recovered': 9580}\n",
      "day:272\n",
      "{'infected': 0, 'dead': 336, 'never infected': 83, 'recovered': 9581}\n"
     ]
    }
   ],
   "source": [
    "daily_stats = []\n",
    "city_social_network.nodes[0]['infected'] = True\n",
    "city_social_network.nodes[0]['infected_date'] = 0\n",
    "total_infections = 1\n",
    "i=0\n",
    "while total_infections>0:\n",
    "    print('day:'+str(i))\n",
    "    simulate_single_day(city_social_network,i)\n",
    "    daily_stats.append(get_disease_stats(city_social_network))\n",
    "    print(daily_stats[-1])\n",
    "    total_infections = daily_stats[-1]['infected']\n",
    "    i+=1"
   ]
  },
  {
   "cell_type": "code",
   "execution_count": null,
   "metadata": {},
   "outputs": [],
   "source": []
  },
  {
   "cell_type": "code",
   "execution_count": 118,
   "metadata": {},
   "outputs": [
    {
     "data": {
      "text/plain": [
       "{'infected': 0, 'dead': 0, 'healthy': 10000}"
      ]
     },
     "execution_count": 118,
     "metadata": {},
     "output_type": "execute_result"
    }
   ],
   "source": [
    "get_disease_stats(city_social_network)"
   ]
  },
  {
   "cell_type": "code",
   "execution_count": null,
   "metadata": {},
   "outputs": [],
   "source": []
  }
 ],
 "metadata": {
  "kernelspec": {
   "display_name": ".venv",
   "language": "python",
   "name": ".venv"
  },
  "language_info": {
   "codemirror_mode": {
    "name": "ipython",
    "version": 3
   },
   "file_extension": ".py",
   "mimetype": "text/x-python",
   "name": "python",
   "nbconvert_exporter": "python",
   "pygments_lexer": "ipython3",
   "version": "3.7.6"
  }
 },
 "nbformat": 4,
 "nbformat_minor": 4
}
