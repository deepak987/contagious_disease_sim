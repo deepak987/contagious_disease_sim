{
 "cells": [
  {
   "cell_type": "code",
   "execution_count": 1,
   "metadata": {},
   "outputs": [],
   "source": [
    "import networkx as nx\n",
    "import numpy as np\n",
    "import matplotlib.pyplot as plt\n",
    "import pandas as pd\n",
    "import string\n",
    "import random\n",
    "from collections import Counter\n",
    "import sys\n",
    "%matplotlib inline"
   ]
  },
  {
   "cell_type": "markdown",
   "metadata": {},
   "source": [
    "# Our City\n",
    "\n",
    "These are constants that define the behaviour of the city - "
   ]
  },
  {
   "cell_type": "code",
   "execution_count": 2,
   "metadata": {},
   "outputs": [],
   "source": [
    "CITY_POPULATION = 10000\n",
    "MEAN_NETWORK_DEGREE = 50\n",
    "MEAN_INTERACTIONS_PER_DAY = 20\n"
   ]
  },
  {
   "cell_type": "markdown",
   "metadata": {},
   "source": [
    "The city is modeled as a small-world network graph (https://en.wikipedia.org/wiki/Small-world_network)\n",
    "\n",
    "The graph is generated using the Watts–Strogatz model (https://en.wikipedia.org/wiki/Watts%E2%80%93Strogatz_model)"
   ]
  },
  {
   "cell_type": "code",
   "execution_count": 3,
   "metadata": {},
   "outputs": [],
   "source": [
    "BETA = 0.5 # a parameter for the Watts–Strogatz read wiki page for more details\n",
    "city_social_network = nx.watts_strogatz_graph(CITY_POPULATION, MEAN_NETWORK_DEGREE, BETA)\n"
   ]
  },
  {
   "cell_type": "markdown",
   "metadata": {},
   "source": [
    "### Network characteristics\n",
    "\n",
    "Let's look at the distribution of number of connections each person has in the city"
   ]
  },
  {
   "cell_type": "code",
   "execution_count": 4,
   "metadata": {},
   "outputs": [
    {
     "data": {
      "text/plain": [
       "<BarContainer object of 31 artists>"
      ]
     },
     "execution_count": 4,
     "metadata": {},
     "output_type": "execute_result"
    },
    {
     "data": {
      "image/png": "[encoded data removed]",
      "text/plain": [
       "<Figure size 432x288 with 1 Axes>"
      ]
     },
     "metadata": {
      "needs_background": "light"
     },
     "output_type": "display_data"
    }
   ],
   "source": [
    "degrees = dict(city_social_network.degree()).values()\n",
    "degree_counts = np.unique(list(degrees), return_counts = True)\n",
    "degree_counts\n",
    "plt.bar(degree_counts[0], degree_counts[1]) \n"
   ]
  },
  {
   "cell_type": "markdown",
   "metadata": {},
   "source": [
    "Age is an important characteristic in the prognosis of many diseases, including COVID'19\n",
    "\n",
    "We model our city's population's age on that of the USA.\n",
    "Based on 2000 Census data (https://www.census.gov/prod/cen2010/briefs/c2010br-03.pdf)"
   ]
  },
  {
   "cell_type": "code",
   "execution_count": 5,
   "metadata": {},
   "outputs": [],
   "source": [
    "age_group_numbers_USA = [19175798,20549505,20528072,20219890,18964001,19381336,20510388,22706664,22441863, 20092404,17585548,13469237, 10805447,9533545,8857441,7415813,4945367,2789818,1112531,286784,50454,]"
   ]
  },
  {
   "cell_type": "markdown",
   "metadata": {},
   "source": [
    "Each age group is of 5 years - under 5yo, 5-10, 10-15 .... 95-100, >100\n",
    "\n",
    "For convenience, we choose a representative age for each group"
   ]
  },
  {
   "cell_type": "code",
   "execution_count": 6,
   "metadata": {},
   "outputs": [
    {
     "data": {
      "image/png": "[encoded data removed]",
      "text/plain": [
       "<Figure size 432x288 with 1 Axes>"
      ]
     },
     "metadata": {
      "needs_background": "light"
     },
     "output_type": "display_data"
    }
   ],
   "source": [
    "age_group_ratios = np.array(age_group_numbers_USA)/sum(age_group_numbers_USA)\n",
    "ages = [2, 7, 12, 17, 22, 27, 32, 37, 42, 47, 52, 57, 62, 67, 72, 77, 82, 87, 92, 97, 102]\n",
    "plt.bar(ages, age_group_ratios)\n",
    "plt.title('Age distribution of the USA')\n",
    "plt.show()"
   ]
  },
  {
   "cell_type": "markdown",
   "metadata": {},
   "source": [
    "Assigning an age to each person in our city"
   ]
  },
  {
   "cell_type": "code",
   "execution_count": 7,
   "metadata": {},
   "outputs": [],
   "source": [
    "city_ages = np.random.choice(ages, CITY_POPULATION, p = age_group_ratios)"
   ]
  },
  {
   "cell_type": "code",
   "execution_count": 8,
   "metadata": {},
   "outputs": [
    {
     "data": {
      "image/png": "[encoded data removed]",
      "text/plain": [
       "<Figure size 432x288 with 1 Axes>"
      ]
     },
     "metadata": {
      "needs_background": "light"
     },
     "output_type": "display_data"
    }
   ],
   "source": [
    "age_dist = np.unique(city_ages, return_counts = True)\n",
    "plt.bar(age_dist[0], age_dist[1])\n",
    "plt.title('Age distribution of our city')\n",
    "plt.show()"
   ]
  },
  {
   "cell_type": "markdown",
   "metadata": {},
   "source": [
    "Wrapping all of this into a single function for convenience, and initializing some other parameters "
   ]
  },
  {
   "cell_type": "code",
   "execution_count": 9,
   "metadata": {},
   "outputs": [],
   "source": [
    "def init_city():\n",
    "    city_social_network = nx.watts_strogatz_graph(CITY_POPULATION, MEAN_NETWORK_DEGREE, BETA)\n",
    "    city_ages = np.random.choice(ages, CITY_POPULATION, p = age_group_ratios)\n",
    "    for i in range(CITY_POPULATION):\n",
    "        city_social_network.nodes[i]['age'] = city_ages[i]\n",
    "        city_social_network.nodes[i]['infected'] = False\n",
    "        city_social_network.nodes[i]['alive'] = True\n",
    "        city_social_network.nodes[i]['isolated'] = False\n",
    "        city_social_network.nodes[i]['infected_date'] = sys.maxsize\n",
    "        city_social_network.nodes[i]['recovered'] = False\n",
    "    return city_social_network\n"
   ]
  },
  {
   "cell_type": "markdown",
   "metadata": {},
   "source": [
    "# Our disease\n",
    "Some parameters that define our disease"
   ]
  },
  {
   "cell_type": "code",
   "execution_count": 10,
   "metadata": {},
   "outputs": [],
   "source": [
    "TRANSMISSION_RATE = 1.0/100\n",
    "ILLNESS_LENGTH_DAYS = 14\n",
    "SYMPTOMATIC_RATE = 0.5"
   ]
  },
  {
   "cell_type": "markdown",
   "metadata": {},
   "source": [
    "We define a probabilty function of the disease being fatal - based on the age of the patient"
   ]
  },
  {
   "cell_type": "code",
   "execution_count": 11,
   "metadata": {},
   "outputs": [],
   "source": [
    "def mortality_pdf(age):\n",
    "    # a slightly simplistic placeholder \n",
    "    return ((age-102)/1020 +0.2)"
   ]
  },
  {
   "cell_type": "code",
   "execution_count": 12,
   "metadata": {},
   "outputs": [
    {
     "data": {
      "text/plain": [
       "[<matplotlib.lines.Line2D at 0x7fe15af8e860>]"
      ]
     },
     "execution_count": 12,
     "metadata": {},
     "output_type": "execute_result"
    },
    {
     "data": {
      "image/png": "[encoded data removed]",
      "text/plain": [
       "<Figure size 432x288 with 1 Axes>"
      ]
     },
     "metadata": {
      "needs_background": "light"
     },
     "output_type": "display_data"
    }
   ],
   "source": [
    "plt.plot(ages,[mortality_pdf(age) for age in ages])"
   ]
  },
  {
   "cell_type": "markdown",
   "metadata": {},
   "source": [
    "# Now, the actual simulations"
   ]
  },
  {
   "cell_type": "code",
   "execution_count": 13,
   "metadata": {},
   "outputs": [],
   "source": [
    "def get_disease_stats(city_graph):\n",
    "    \"\"\"\n",
    "    Look at the disease spread in the population\n",
    "    \"\"\"\n",
    "    total_infected = 0\n",
    "    total_dead = 0\n",
    "    total_healthy = 0\n",
    "    total_recovered = 0\n",
    "    for i in city_graph.nodes():\n",
    "        if not city_graph.nodes[i]['alive']:\n",
    "            total_dead+=1\n",
    "        #dead people are not infected\n",
    "        elif city_graph.nodes[i]['infected']:\n",
    "            total_infected +=1\n",
    "        elif city_graph.nodes[i]['recovered']:\n",
    "            total_recovered +=1\n",
    "        \n",
    "        else:\n",
    "            total_healthy+=1\n",
    "    return{'infected':total_infected, 'dead': total_dead, 'never infected':total_healthy, 'recovered': total_recovered}\n",
    "        \n",
    "        "
   ]
  },
  {
   "cell_type": "markdown",
   "metadata": {},
   "source": [
    "Based on the previously defined behaviour of our citizens, we generate a set of 'interactions' for the day. An interaction is a meeting between two people that may spread the disease\n",
    "\n",
    "The below function assumes no preventative measures are made at all"
   ]
  },
  {
   "cell_type": "code",
   "execution_count": 14,
   "metadata": {},
   "outputs": [],
   "source": [
    "def get_daily_visits_no_preventative_measures(city_graph):\n",
    "    total_visits_in_day = (len(city_graph.nodes)*MEAN_INTERACTIONS_PER_DAY)/2 # Two people take part in an interaction\n",
    "    day_visits = random.sample(list(city_graph.edges), int(total_visits_in_day))\n",
    "    return day_visits\n",
    "    "
   ]
  },
  {
   "cell_type": "markdown",
   "metadata": {},
   "source": [
    "Distribution of Interactions on Day 0 (by person):"
   ]
  },
  {
   "cell_type": "code",
   "execution_count": 15,
   "metadata": {},
   "outputs": [],
   "source": [
    "day_0_interactions = get_daily_visits_no_preventative_measures(city_social_network)\n",
    "interactions_per_person = Counter()\n",
    "for interaction in day_0_interactions:\n",
    "    interactions_per_person[interaction[0]]+=1\n",
    "    interactions_per_person[interaction[1]]+=1\n",
    "    "
   ]
  },
  {
   "cell_type": "code",
   "execution_count": 16,
   "metadata": {},
   "outputs": [
    {
     "data": {
      "text/plain": [
       "<BarContainer object of 28 artists>"
      ]
     },
     "execution_count": 16,
     "metadata": {},
     "output_type": "execute_result"
    },
    {
     "data": {
      "image/png": "[encoded data removed]",
      "text/plain": [
       "<Figure size 432x288 with 1 Axes>"
      ]
     },
     "metadata": {
      "needs_background": "light"
     },
     "output_type": "display_data"
    }
   ],
   "source": [
    "hist = np.unique(list(interactions_per_person.values()), return_counts = True)\n",
    "plt.bar(hist[0],hist[1])"
   ]
  },
  {
   "cell_type": "code",
   "execution_count": 17,
   "metadata": {},
   "outputs": [],
   "source": [
    "\n",
    "def simulate_single_day(city_graph, day_number):\n",
    "    \n",
    "    interactions = get_daily_visits_no_preventative_measures(city_graph)\n",
    "    \n",
    "    for p1,p2 in interactions:\n",
    "        if not city_graph.nodes[p1]['alive'] or not city_graph.nodes[p1]['alive']:\n",
    "            continue\n",
    "        if city_graph.nodes[p1]['infected'] and city_graph.nodes[p2]['infected']:\n",
    "            continue\n",
    "        if city_graph.nodes[p1]['recovered'] or city_graph.nodes[p2]['recovered']:\n",
    "            continue\n",
    "        if not city_graph.nodes[p1]['infected'] and not city_graph.nodes[p2]['infected']:\n",
    "            continue\n",
    "        # one of the people is infected.\n",
    "        if random.uniform(0, 1) < TRANSMISSION_RATE:\n",
    "            #infect!\n",
    "            if not city_graph.nodes[p1]['infected']:\n",
    "                \n",
    "                city_graph.nodes[p1]['infected'] = True\n",
    "                city_graph.nodes[p1]['infected_date'] = day_number\n",
    "            else:\n",
    "                \n",
    "                city_graph.nodes[p2]['infected'] = True\n",
    "                city_graph.nodes[p2]['infected_date'] = day_number\n",
    "    for p in city_graph.nodes():\n",
    "        if day_number - city_graph.nodes[p]['infected_date'] == ILLNESS_LENGTH_DAYS:\n",
    "            if random.uniform(0, 1) < mortality_pdf(city_graph.nodes[p]['age']) :\n",
    "                city_graph.nodes[p]['alive'] = False\n",
    "            else:\n",
    "                city_graph.nodes[p]['recovered'] = True\n",
    "                city_graph.nodes[p]['infected'] = False\n",
    "  "
   ]
  },
  {
   "cell_type": "code",
   "execution_count": 21,
   "metadata": {},
   "outputs": [
    {
     "name": "stdout",
     "output_type": "stream",
     "text": [
      "day:0\n",
      "{'infected': 2, 'dead': 0, 'never infected': 9998, 'recovered': 0}\n",
      "day:10\n",
      "{'infected': 20, 'dead': 0, 'never infected': 9980, 'recovered': 0}\n",
      "day:20\n",
      "{'infected': 156, 'dead': 1, 'never infected': 9835, 'recovered': 8}\n",
      "day:30\n",
      "{'infected': 811, 'dead': 15, 'never infected': 9108, 'recovered': 66}\n",
      "day:40\n",
      "{'infected': 3088, 'dead': 70, 'never infected': 6450, 'recovered': 392}\n",
      "day:50\n",
      "{'infected': 5258, 'dead': 325, 'never infected': 2586, 'recovered': 1831}\n",
      "day:60\n",
      "{'infected': 2957, 'dead': 852, 'never infected': 992, 'recovered': 5199}\n",
      "day:70\n",
      "{'infected': 740, 'dead': 1206, 'never infected': 620, 'recovered': 7434}\n",
      "day:80\n",
      "{'infected': 197, 'dead': 1309, 'never infected': 508, 'recovered': 7986}\n",
      "day:90\n",
      "{'infected': 86, 'dead': 1331, 'never infected': 455, 'recovered': 8128}\n",
      "day:100\n",
      "{'infected': 81, 'dead': 1345, 'never infected': 394, 'recovered': 8180}\n",
      "day:110\n",
      "{'infected': 74, 'dead': 1346, 'never infected': 347, 'recovered': 8233}\n",
      "day:120\n",
      "{'infected': 53, 'dead': 1354, 'never infected': 315, 'recovered': 8278}\n",
      "day:130\n",
      "{'infected': 40, 'dead': 1358, 'never infected': 285, 'recovered': 8317}\n",
      "day:140\n",
      "{'infected': 32, 'dead': 1367, 'never infected': 265, 'recovered': 8336}\n",
      "day:150\n",
      "{'infected': 32, 'dead': 1371, 'never infected': 238, 'recovered': 8359}\n",
      "day:160\n",
      "{'infected': 27, 'dead': 1374, 'never infected': 222, 'recovered': 8377}\n",
      "day:170\n",
      "{'infected': 29, 'dead': 1379, 'never infected': 203, 'recovered': 8389}\n",
      "day:180\n",
      "{'infected': 18, 'dead': 1381, 'never infected': 190, 'recovered': 8411}\n",
      "day:190\n",
      "{'infected': 21, 'dead': 1381, 'never infected': 174, 'recovered': 8424}\n",
      "day:200\n",
      "{'infected': 23, 'dead': 1383, 'never infected': 158, 'recovered': 8436}\n",
      "day:210\n",
      "{'infected': 16, 'dead': 1384, 'never infected': 147, 'recovered': 8453}\n",
      "day:220\n",
      "{'infected': 11, 'dead': 1385, 'never infected': 141, 'recovered': 8463}\n",
      "day:230\n",
      "{'infected': 13, 'dead': 1385, 'never infected': 131, 'recovered': 8471}\n",
      "day:240\n",
      "{'infected': 15, 'dead': 1386, 'never infected': 119, 'recovered': 8480}\n",
      "day:250\n",
      "{'infected': 7, 'dead': 1389, 'never infected': 114, 'recovered': 8490}\n",
      "day:260\n",
      "{'infected': 9, 'dead': 1390, 'never infected': 108, 'recovered': 8493}\n",
      "day:270\n",
      "{'infected': 7, 'dead': 1390, 'never infected': 102, 'recovered': 8501}\n",
      "day:280\n",
      "{'infected': 6, 'dead': 1391, 'never infected': 97, 'recovered': 8506}\n",
      "day:290\n",
      "{'infected': 5, 'dead': 1391, 'never infected': 94, 'recovered': 8510}\n",
      "day:300\n",
      "{'infected': 3, 'dead': 1392, 'never infected': 91, 'recovered': 8514}\n",
      "day:310\n",
      "{'infected': 3, 'dead': 1392, 'never infected': 90, 'recovered': 8515}\n",
      "day:320\n",
      "{'infected': 9, 'dead': 1392, 'never infected': 81, 'recovered': 8518}\n",
      "day:330\n",
      "{'infected': 11, 'dead': 1393, 'never infected': 75, 'recovered': 8521}\n",
      "day:340\n",
      "{'infected': 5, 'dead': 1393, 'never infected': 73, 'recovered': 8529}\n",
      "day:350\n",
      "{'infected': 1, 'dead': 1394, 'never infected': 72, 'recovered': 8533}\n",
      "day:360\n",
      "{'infected': 3, 'dead': 1394, 'never infected': 69, 'recovered': 8534}\n",
      "day:370\n",
      "{'infected': 4, 'dead': 1394, 'never infected': 66, 'recovered': 8536}\n",
      "day:380\n",
      "{'infected': 3, 'dead': 1394, 'never infected': 63, 'recovered': 8540}\n",
      "day:390\n",
      "{'infected': 3, 'dead': 1396, 'never infected': 60, 'recovered': 8541}\n",
      "day:400\n",
      "{'infected': 2, 'dead': 1397, 'never infected': 58, 'recovered': 8543}\n",
      "day:410\n",
      "{'infected': 4, 'dead': 1397, 'never infected': 55, 'recovered': 8544}\n",
      "day:420\n",
      "{'infected': 3, 'dead': 1397, 'never infected': 53, 'recovered': 8547}\n",
      "day:430\n",
      "{'infected': 7, 'dead': 1398, 'never infected': 48, 'recovered': 8547}\n",
      "day:440\n",
      "{'infected': 1, 'dead': 1398, 'never infected': 48, 'recovered': 8553}\n"
     ]
    }
   ],
   "source": [
    "def simulate_disease_spread():\n",
    "    city_social_network = init_city()\n",
    "    daily_stats = []\n",
    "    city_social_network.nodes[0]['infected'] = True\n",
    "    city_social_network.nodes[0]['infected_date'] = 0\n",
    "    total_infections = 1\n",
    "    day=0\n",
    "    while total_infections>0:\n",
    "        simulate_single_day(city_social_network,day)\n",
    "        daily_stats.append(get_disease_stats(city_social_network))\n",
    "        if day%10==0:\n",
    "            print('day:'+str(day))\n",
    "            print(daily_stats[-1])\n",
    "        total_infections = daily_stats[-1]['infected']\n",
    "        day+=1\n",
    "    return daily_stats\n",
    "daily_stats = simulate_disease_spread()"
   ]
  },
  {
   "cell_type": "code",
   "execution_count": 22,
   "metadata": {},
   "outputs": [],
   "source": [
    "def plot_infection_progression(daily_stats):\n",
    "    df = pd.DataFrame(daily_stats)\n",
    "    colors = [[0.5,0.5,0.5], [0.6,0,0], [0,0.5,0],[0,0.75,0] ] # grey, red, light green, dark green\n",
    "    ax = df.plot(y = ['dead', 'infected', 'recovered', 'never infected'], color = colors)\n",
    "    ax.set_xlabel('Days')\n",
    "    ax.set_ylabel('Number of people')\n",
    "    plt.show()\n",
    "    \n",
    "    ax = df.plot.area(y = ['dead', 'infected', 'recovered', 'never infected'], color = colors)\n",
    "    ax.set_xlabel('Days')\n",
    "    ax.set_ylabel('Number of people')\n",
    "    plt.show()\n",
    "  \n",
    "\n",
    "    "
   ]
  },
  {
   "cell_type": "code",
   "execution_count": 23,
   "metadata": {},
   "outputs": [
    {
     "data": {
      "image/png": "[encoded data removed]",
      "text/plain": [
       "<Figure size 432x288 with 1 Axes>"
      ]
     },
     "metadata": {
      "needs_background": "light"
     },
     "output_type": "display_data"
    },
    {
     "data": {
      "image/png": "[encoded data removed]",
      "text/plain": [
       "<Figure size 432x288 with 1 Axes>"
      ]
     },
     "metadata": {
      "needs_background": "light"
     },
     "output_type": "display_data"
    }
   ],
   "source": [
    "plot_infection_progression(daily_stats)"
   ]
  },
  {
   "cell_type": "code",
   "execution_count": null,
   "metadata": {},
   "outputs": [],
   "source": []
  },
  {
   "cell_type": "code",
   "execution_count": null,
   "metadata": {},
   "outputs": [],
   "source": []
  }
 ],
 "metadata": {
  "kernelspec": {
   "display_name": "Python 3",
   "language": "python",
   "name": "python3"
  },
  "language_info": {
   "codemirror_mode": {
    "name": "ipython",
    "version": 3
   },
   "file_extension": ".py",
   "mimetype": "text/x-python",
   "name": "python",
   "nbconvert_exporter": "python",
   "pygments_lexer": "ipython3",
   "version": "3.6.8"
  }
 },
 "nbformat": 4,
 "nbformat_minor": 4
}
